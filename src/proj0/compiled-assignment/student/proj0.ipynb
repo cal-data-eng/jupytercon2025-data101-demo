{
 "cells": [
  {
   "cell_type": "code",
   "execution_count": null,
   "metadata": {
    "deletable": false,
    "editable": false
   },
   "outputs": [],
   "source": [
    "# Initialize Otter\n",
    "import otter\n",
    "grader = otter.Notebook(\"proj0.ipynb\")"
   ]
  },
  {
   "cell_type": "markdown",
   "metadata": {},
   "source": [
    "# Project 0 - SQL Review -- Music Querying\n",
    "\n",
    "In this project, we will be working with SQL on a Billboard Music database."
   ]
  },
  {
   "cell_type": "code",
   "execution_count": null,
   "metadata": {},
   "outputs": [],
   "source": [
    "# Run this cell to set up imports\n",
    "import numpy as np\n",
    "import pandas as pd"
   ]
  },
  {
   "cell_type": "code",
   "execution_count": null,
   "metadata": {},
   "outputs": [],
   "source": [
    "# Set up autoreloading imported .py modules such as data101_utils.py\n",
    "%load_ext autoreload\n",
    "%autoreload 2"
   ]
  },
  {
   "cell_type": "markdown",
   "metadata": {},
   "source": [
    "<hr style=\"border: 5px solid #003262;\" />\n",
    "<hr style=\"border: 1px solid #fdb515;\" />\n",
    "\n",
    "# Setup\n",
    "\n",
    "## Database Setup\n",
    "We are going to be using the `JupySQL` library to connect our notebook to a PostgreSQL database server on your JupyterHub account. Running the next cell will do so; you should not see any error messages after it executes."
   ]
  },
  {
   "cell_type": "code",
   "execution_count": null,
   "metadata": {},
   "outputs": [],
   "source": [
    "# The first time you are running this cell, you may need to run the following line as: %load_ext sql\n",
    "%reload_ext sql"
   ]
  },
  {
   "cell_type": "markdown",
   "metadata": {},
   "source": [
    "In the next cell, we will unzip the data. This only needs to be done once."
   ]
  },
  {
   "cell_type": "code",
   "execution_count": null,
   "metadata": {},
   "outputs": [],
   "source": [
    "!unzip -uo data/billboard.zip -d data/"
   ]
  },
  {
   "cell_type": "markdown",
   "metadata": {},
   "source": [
    "<br/>\n",
    "\n",
    "**Create the `billboard` database**: <br>\n",
    "We will use PostgreSQL commands to create a database and import our data into it. Run the following cell to do this. It may take a few seconds.\n",
    "\n",
    "* You can also run these cells in the command-line via `psql`.\n",
    "* If you run into the **role does not exist** error, feel free to ignore it. It does not affect data import."
   ]
  },
  {
   "cell_type": "code",
   "execution_count": null,
   "metadata": {
    "scrolled": true
   },
   "outputs": [],
   "source": [
    "!/opt/homebrew/bin/psql postgresql://localhost/billboard -c 'SELECT pg_terminate_backend(pg_stat_activity.pid) FROM pg_stat_activity WHERE datname = current_database()  AND pid <> pg_backend_pid();'\n",
    "!/opt/homebrew/bin/psql postgresql://localhost/postgres -c 'DROP DATABASE IF EXISTS billboard'\n",
    "!/opt/homebrew/bin/psql postgresql://localhost/postgres -c 'CREATE DATABASE billboard'\n",
    "!/opt/homebrew/bin/psql postgresql://localhost/billboard -f data/billboard.sql -q"
   ]
  },
  {
   "cell_type": "markdown",
   "metadata": {},
   "source": [
    "**Connect to `billboard` database in the Notebook**: \n",
    "<br>\n",
    "Now let's connect to the new database we just created! There should be no errors after running the following cell."
   ]
  },
  {
   "cell_type": "code",
   "execution_count": null,
   "metadata": {},
   "outputs": [],
   "source": [
    "%sql postgresql://localhost/billboard"
   ]
  },
  {
   "cell_type": "markdown",
   "metadata": {},
   "source": [
    "Assuming the previous command doesn't show an error, this will use the current connection to show all tables in the `billboard` database."
   ]
  },
  {
   "cell_type": "code",
   "execution_count": null,
   "metadata": {},
   "outputs": [],
   "source": [
    "%sqlcmd tables"
   ]
  },
  {
   "cell_type": "markdown",
   "metadata": {},
   "source": [
    "---\n",
    "\n",
    "**Quick check**: To make sure things are working, let's fetch 10 rows from one of each table. Just run the following cells. If there are no errors, no further action is needed."
   ]
  },
  {
   "cell_type": "code",
   "execution_count": null,
   "metadata": {},
   "outputs": [],
   "source": [
    "%%sql\n",
    "SELECT * FROM hot_100 LIMIT 10;"
   ]
  },
  {
   "cell_type": "code",
   "execution_count": null,
   "metadata": {},
   "outputs": [],
   "source": [
    "%%sql\n",
    "SELECT *\n",
    "  FROM tiktok_top_50\n",
    "LIMIT 10"
   ]
  },
  {
   "cell_type": "markdown",
   "metadata": {},
   "source": [
    "## Grader Setup"
   ]
  },
  {
   "cell_type": "code",
   "execution_count": null,
   "metadata": {},
   "outputs": [],
   "source": [
    "# Connecting the grader\n",
    "# Just run the following cell, no further action is needed.\n",
    "from data101_utils import GradingUtil\n",
    "grading_util = GradingUtil(\"proj0\")\n",
    "grading_util.prepare_autograder(\"billboard\")"
   ]
  },
  {
   "cell_type": "code",
   "execution_count": null,
   "metadata": {},
   "outputs": [],
   "source": [
    "# Fetch random rows to check table exists\n",
    "grading_util.run_sql(\"SELECT * FROM hot_100 LIMIT 10;\")"
   ]
  },
  {
   "cell_type": "code",
   "execution_count": null,
   "metadata": {},
   "outputs": [],
   "source": [
    "# Fetch random rows to check table exists\n",
    "grading_util.run_sql(\"SELECT * FROM tiktok_top_50 LIMIT 10;\")"
   ]
  },
  {
   "cell_type": "markdown",
   "metadata": {},
   "source": [
    "## New Query Execution Workflow (you MUST read this!)\n",
    "\n",
    "In previous projects, we used an extension called JupySQL to run SQL directly in your Jupyter notebook. However, this can cause the notebook to be very long, and it also introduces unnecessary complexity when running the autograder. Starting with this project, we will be moving to a new query execution workflow where you will write your SQL queries in separate `.sql` files under the `queries` directory. It goes like this:\n",
    "\n",
    "1. Read and understand the question\n",
    "2. Open the `.sql` file that corresponds to that question. For example, for Q1b, you should open `queries/1b.sql`\n",
    "3. Write your SQL code in that file. **If there is starter code, make sure you do NOT delete any of it otherwise the autograder will fail!**\n",
    "4. **Save your SQL file.** This is ***SUPER IMPORTANT*** so that when you test your query result, it is running your most recent query.\n",
    "5. Go back to your project Jupyter notebook, and run the cell that contains the call to `grading_util.run_file`. It will look something like this:\n",
    "```python\n",
    "result_1b = grading_util.run_file(\"1b\")\n",
    "result_1b\n",
    "```\n",
    "6. Observe the output and run tests\n",
    "\n",
    "If you want to run one-off SQL queries (for example to explore the database), you can do that using `grading_util.run_sql` like so:\n",
    "```python\n",
    "grading_util.run_sql(\"SELECT 'YOUR CODE HERE';\")\n",
    "```\n",
    "7. Once you're done with the project, upload your `queries.zip` file (instead of `results.zip`). This file will be automatically created when you run `grading_util.prepare_submission_and_cleanup()`.\n",
    "\n",
    "**Dos and Don'ts**\n",
    "\n",
    "- If you encounter an error, **read the entire error message** before asking for help - it might be long, but it can be helpful! For example, if you have a syntax error in your SQL code, it should tell you which line it occurred on and where on that line it occurred.\n",
    "- You may find it useful to use **JupyterHub's split screen feature** so you can have the notebook and SQL file side by side. You can use this by dragging the tabs at the top. You can either do a left/right split or top/bottom split.\n",
    "- If you need to run a SQL statement that spans multiple lines, **use Python's multiline strings** which are enclosed in triple quotes:\n",
    "```python\n",
    "grading_util.run_sql(\"\"\"\n",
    "SELECT 'YOUR CODE HERE';\n",
    "SELECT 'YOUR CODE HERE';\n",
    "SELECT 'YOUR CODE HERE';\n",
    "\"\"\")\n",
    "```\n",
    "- Make sure to **terminate all SQL statements with a semicolon** and **enclose all subqueries in parentheses**.\n",
    "- You can run multiple statements within a file or within a single `run_sql` call. **The results of each statement will be returned in a list; you may index into the list to view the results of an individual statement.** If no rows are outputted by that statement, `None` will be returned (instead of a `pandas.DataFrame`)\n",
    "- You can learn more about the behavior of `run_sql` and `run_file` by running the cells below to read their docstrings"
   ]
  },
  {
   "cell_type": "code",
   "execution_count": null,
   "metadata": {},
   "outputs": [],
   "source": [
    "?grading_util.run_sql"
   ]
  },
  {
   "cell_type": "code",
   "execution_count": null,
   "metadata": {},
   "outputs": [],
   "source": [
    "?grading_util.run_file"
   ]
  },
  {
   "cell_type": "markdown",
   "metadata": {},
   "source": [
    "<hr style=\"border: 5px solid #003262;\" />\n",
    "<hr style=\"border: 1px solid #fdb515;\" />\n",
    "\n",
    "\n",
    "# The `billboard` Database\n",
    "\n",
    "[Billboard](https://www.billboard.com) is a music industry publication which tracks the sales and distribution of music across many genres. Each week, they publish “charts” which aggregate the total sales, streams (e.g. via Spotify, Apple Music, or YouTube) as well as radio airplay in the US.\n",
    " \n",
    "The most (in)famous chart is the [Billboard Hot 100](https://www.billboard.com/charts/hot-100/), widely regarded as the list of most popular songs in the US. For this assignment, you’ll be looking at data from the Hot 100 list, primarily in recent years — though the database we’ve provided to you goes all the way back to 1958! \n",
    "\n",
    "Later questions will involve `JOIN`ing with data from the [Billboard TikTok Top 50](https://www.billboard.com/charts/tiktok-billboard-top-50/), a list of the songs that are the most popular on TikTok, factoring in views and user engagement.\n",
    "\n",
    "Why might we make our own SQL database of something that’s already available on a webpage? Well, we write queries and learn things about music or pop history that might be harder from just looking at a chart. But perhaps an alternate reason is that the Billboard website loads hundreds of data trackers, and dozens of megabytes of data on every webpage. Sometimes, it’s nicer to just view data... in a database. 🙃\n",
    "\n",
    "Below is a list of the relations (tables) in our database. \n",
    "- **hot_100**: Metadata for songs in the Billboard Hot 100\n",
    "- **tiktok_top_50**: Metadata for songs in the Billboard TikTok Top 50"
   ]
  },
  {
   "cell_type": "markdown",
   "metadata": {},
   "source": [
    "<br/><br/><br/>\n",
    "\n",
    "<hr style=\"border: 1px solid #fdb515;\" />\n",
    "\n",
    "## Data Schema"
   ]
  },
  {
   "cell_type": "markdown",
   "metadata": {},
   "source": [
    "When approaching a new database, one of the most important things to do is understand the database schema. Remember that a database is a set of tables, which each contain their own schema. For this assignment, both the `hot_100` and `tiktok_top_50` tables contain the following schema.\n",
    "\n",
    "```\n",
    "CREATE TABLE hot_100 (\n",
    "    week_ending TEXT,\n",
    "    rank INTEGER,\n",
    "    title TEXT,\n",
    "    artist TEXT, \n",
    "    image_url TEXT,\n",
    "    peak_position INTEGER,\n",
    "    weeks_on_chart INTEGER,\n",
    "    UNIQUE (week_ending, rank)\n",
    ");\n",
    "```\n",
    "\n",
    "- `week_ending`: The week that \"chart\" was published, as a `YYYY-MM-DD` string\n",
    "- `rank`: The track's current position on the chart. (A rank of 1 is better than a rank of 10.)\n",
    "- `title`: Track's title\n",
    "- `artist`: Track's artist\n",
    "- `image_url`: Image URL of the track's album cover\n",
    "- `peak_position`: The track's peak position on the chart as of the chart date\n",
    "- `weeks_on_chart`: The number of weeks the track has been or was on the chart up until that point\n",
    "\n",
    "**Note:** In the case of Billboard charts, a song (or album's) `peak_position` is based on the idea that being #1 is the 'best'. Therefore, a _smaller_ value for `peak_position` is better. \n",
    "\n",
    "_An aside_: ⏰ We've decided to use a `TEXT` data type for the `week_ending` date. Later we'll explore the `date` type. However, we can operate ordered comparisions on these strings, since '2024-01-01' comes before '2024-01-02' lexicographically. "
   ]
  },
  {
   "cell_type": "markdown",
   "metadata": {},
   "source": [
    "<br/><br/><br/>\n",
    "\n",
    "<hr style=\"border: 1px solid #fdb515;\" />\n",
    "\n",
    "## Optional Fun"
   ]
  },
  {
   "cell_type": "markdown",
   "metadata": {},
   "source": [
    "Call the `display_query` function passing in your JupySQL query result to view the results with a table that links to Apple Music and Spotify. An example usage of the `display_query` function can be found at the end of Question 3."
   ]
  },
  {
   "cell_type": "code",
   "execution_count": null,
   "metadata": {},
   "outputs": [],
   "source": [
    "# Some utilities to make exploration easier.\n",
    "# NOTE: Make sure to write display_query(...);\n",
    "# Use the ; to supress the notebook's default output.\n",
    "\n",
    "# Common Configuration\n",
    "DISPLAY_ALBUM_ART = False\n",
    "IMAGE_SIZE = '50px' # Adjust to change the size of album art.\n",
    "MAX_ROWS = 250\n",
    "\n",
    "import urllib.parse\n",
    "from IPython.display import display, HTML\n",
    "\n",
    "# Adjust pandas display options to better handle large DataFrames\n",
    "# Note: These settings do not apply when calling `df.to_html`\n",
    "pd.set_option('display.max_rows', 500) # Adjust as needed\n",
    "pd.set_option('display.max_seq_items', 250)\n",
    "pd.set_option('display.max_columns', None) # Show all columns\n",
    "pd.set_option('display.colheader_justify', 'left')\n",
    "\n",
    "spotify_url = 'https://play.spotify.com/search/'\n",
    "apple_music_url = 'https://music.apple.com/us/search?term='\n",
    "\n",
    "# You probably don't need this function but you can use it make \"fancy\"\n",
    "# datatables which are sortable and searchable. (But the can be a little slow to load.)\n",
    "def html_datatable(html):\n",
    "    return display(HTML(f\"\"\"\n",
    "    <link rel=\"stylesheet\" type=\"text/css\" href=\"https://cdn.datatables.net/1.10.21/css/jquery.dataTables.css\">\n",
    "    <script type=\"text/javascript\" charset=\"utf8\" src=\"https://code.jquery.com/jquery-3.5.1.js\"></script>\n",
    "    <script type=\"text/javascript\" charset=\"utf8\" src=\"https://cdn.datatables.net/1.10.21/js/jquery.dataTables.js\"></script>\n",
    "    <script>\n",
    "    $(document).ready(function() {{\n",
    "        $('table.display').DataTable();\n",
    "    }});\n",
    "    </script>\n",
    "    <div>{html}</div>\n",
    "    \"\"\"))\n",
    "\n",
    "def basic_table(html):\n",
    "    return display(HTML(f\"\"\"\n",
    "    <div style=\"height: 300px; overflow-y: scroll; border: 1px solid #ccc;\">\n",
    "        {html}\n",
    "    </div>\n",
    "    \"\"\"))\n",
    "\n",
    "def display_query(result, show_search=True):\n",
    "    \"\"\"\n",
    "    A fairly basic df to HTML-table display utilitiy.\n",
    "    Includes the ability to give links to Spotify/Apple Music for easy exploring and maximal time wastage.\n",
    "    \"\"\"\n",
    "    song_query = lambda row: urllib.parse.quote(row.get(\"title\", '') + \" \" + row.get(\"artist\", ''))\n",
    "    format_link = lambda col_name: lambda cell: f'<a href=\"{cell}\" target=\"_blank\">{col_name}</a>'\n",
    "    formatters = {\n",
    "        'image_url': lambda image_url: f'<img src=\"{image_url}\" alt=\"Song Cover Art\" style=\"height: {IMAGE_SIZE}; width: auto; max-height: 100%;\">',\n",
    "        'spotify': format_link('Spotify'),\n",
    "        'apple': format_link('Apple Music'),\n",
    "    }\n",
    "\n",
    "    # Display the DataFrame as a nicely formatted table with scroll bars\n",
    "    df = result.DataFrame()\n",
    "    if show_search and ('artist' in df.columns or 'title' in df.columns):\n",
    "        df['spotify'] = df.apply(lambda row: f'{spotify_url}{song_query(row)}', axis=1)\n",
    "        df['apple'] = df.apply(lambda row: f'{apple_music_url}{song_query(row)}', axis=1)\n",
    "\n",
    "    if not DISPLAY_ALBUM_ART and 'image_url' in df.columns:\n",
    "        df = df.drop(columns='image_url')\n",
    "\n",
    "    # Convert DataFrame to HTML\n",
    "    # We must manually set out own limits!\n",
    "    html_table = df.to_html(index=True, escape=False, formatters=formatters, show_dimensions=True, max_rows=MAX_ROWS)\n",
    "\n",
    "    # Swap these two lines to see the fancy version of the output.\n",
    "    # html_datatable(html_table)\n",
    "    basic_table(html_table)\n",
    "    return df;"
   ]
  },
  {
   "cell_type": "markdown",
   "metadata": {},
   "source": [
    "<br/><br/>\n",
    "\n",
    "<hr style=\"border: 5px solid #003262;\" />\n",
    "<hr style=\"border: 1px solid #fdb515;\" />\n",
    "\n",
    "<a name=\"q1\"></a>\n",
    "\n",
    "# Question 1 — Warmup\n"
   ]
  },
  {
   "cell_type": "markdown",
   "metadata": {},
   "source": [
    "## Q1a -- Number of rows\n",
    "\n",
    "Select the number of rows in the `hot_100` table."
   ]
  },
  {
   "cell_type": "code",
   "execution_count": null,
   "metadata": {
    "tags": [
     "otter_answer_cell"
    ]
   },
   "outputs": [],
   "source": [
    "result_1a = grading_util.run_file(\"1a\")\n",
    "result_1a"
   ]
  },
  {
   "cell_type": "code",
   "execution_count": null,
   "metadata": {
    "deletable": false,
    "editable": false
   },
   "outputs": [],
   "source": [
    "grader.check(\"q1a\")"
   ]
  },
  {
   "cell_type": "markdown",
   "metadata": {},
   "source": [
    "## Q1b -- Any 25 rows\n",
    "\n",
    "Select any 25 rows from the `hot_100` table."
   ]
  },
  {
   "cell_type": "code",
   "execution_count": null,
   "metadata": {
    "tags": [
     "otter_answer_cell"
    ]
   },
   "outputs": [],
   "source": [
    "result_1b = grading_util.run_file(\"1b\")\n",
    "result_1b"
   ]
  },
  {
   "cell_type": "code",
   "execution_count": null,
   "metadata": {
    "deletable": false,
    "editable": false
   },
   "outputs": [],
   "source": [
    "grader.check(\"q1b\")"
   ]
  },
  {
   "cell_type": "markdown",
   "metadata": {},
   "source": [
    "<br/><br/>\n",
    "\n",
    "<hr style=\"border: 5px solid #003262;\" />\n",
    "<hr style=\"border: 1px solid #fdb515;\" />\n",
    "\n",
    "<a name=\"q2\"></a>\n",
    "\n",
    "# Question 2 -- Recent Hits\n"
   ]
  },
  {
   "cell_type": "markdown",
   "metadata": {
    "deletable": false,
    "editable": false,
    "vscode": {
     "languageId": "raw"
    }
   },
   "source": [
    "Select all song titles and artists on the Billboard Hot 100 chart in November 2023 which have ranking of 5 or better, sorted alphabetically by artist name.\n",
    "\n",
    "Notes:\n",
    "- The column `week_ending` is a **string**. it is represented `YYYY-MM-DD`. Think back to string comparisons in Data 100.  (Later in this class we will explore Postgres date types.)\n",
    "- Rank 1 is the best, so make sure you are using the right comparison operator!\n",
    "- Remember that a unique pair of song and artist can appear multiple times on the chart (for example, if the song charts for multiple weeks). Make sure your output only includes each song once."
   ]
  },
  {
   "cell_type": "code",
   "execution_count": null,
   "metadata": {
    "tags": [
     "otter_answer_cell"
    ]
   },
   "outputs": [],
   "source": [
    "result_2 = grading_util.run_file(\"2\")\n",
    "result_2"
   ]
  },
  {
   "cell_type": "code",
   "execution_count": null,
   "metadata": {
    "deletable": false,
    "editable": false
   },
   "outputs": [],
   "source": [
    "grader.check(\"q2\")"
   ]
  },
  {
   "cell_type": "markdown",
   "metadata": {},
   "source": [
    "<br/><br/>\n",
    "\n",
    "<hr style=\"border: 1px solid #fdb515;\" />\n",
    "\n",
    "\n",
    "# Question 3 — Recent Hits (JupySQL version)\n"
   ]
  },
  {
   "cell_type": "markdown",
   "metadata": {
    "deletable": false,
    "editable": false
   },
   "source": [
    "Select all song titles and artists on the Billboard Hot 100 chart in November 2023 which have ranking of 5 or better, sorted alphabetically by artist name.\n",
    "\n",
    "Notes:\n",
    "- The column `week_ending` is a **string**. it is represented `YYYY-MM-DD`. Think back to string comparisons in Data 100.  (Later in this class we will explore Postgres date types.)\n",
    "- Rank 1 is the best, so make sure you are using the right comparison operator!\n",
    "- Remember that a unique pair of song and artist can appear multiple times on the chart (for example, if the song charts for multiple weeks). Make sure your output only includes each song once."
   ]
  },
  {
   "cell_type": "code",
   "execution_count": null,
   "metadata": {
    "tags": [
     "otter_answer_cell"
    ]
   },
   "outputs": [],
   "source": [
    "%%sql --save query_3 result_3 <<\n",
    "..."
   ]
  },
  {
   "cell_type": "code",
   "execution_count": null,
   "metadata": {
    "scrolled": true,
    "tags": [
     "otter_answer_cell"
    ]
   },
   "outputs": [],
   "source": [
    "# Do not delete/edit this cell!\n",
    "# You must run this cell before running the autograder.\n",
    "query_3 = %sqlcmd snippets query_3\n",
    "grading_util.save_results(\"result_3\", query_3, result_3)\n",
    "result_3"
   ]
  },
  {
   "cell_type": "code",
   "execution_count": null,
   "metadata": {
    "tags": [
     "otter_answer_cell"
    ]
   },
   "outputs": [],
   "source": [
    "display_query(result_3);"
   ]
  },
  {
   "cell_type": "code",
   "execution_count": null,
   "metadata": {
    "deletable": false,
    "editable": false
   },
   "outputs": [],
   "source": [
    "grader.check(\"q3\")"
   ]
  },
  {
   "cell_type": "markdown",
   "metadata": {},
   "source": [
    "<hr style=\"border: 5px solid #003262;\" />\n",
    "<hr style=\"border: 1px solid #fdb515;\" />"
   ]
  },
  {
   "cell_type": "markdown",
   "metadata": {},
   "source": [
    "# Congratulations! You have finished Project 0."
   ]
  },
  {
   "cell_type": "markdown",
   "metadata": {},
   "source": [
    "We hope you found something interesting to listen to :D\n",
    "\n",
    "Here is an optional but interesting video by Vox related to viral TikTok songs: [We tracked what happens after TikTok songs go viral](https://youtu.be/S1m-KgEpoow?feature=shared)"
   ]
  },
  {
   "cell_type": "markdown",
   "metadata": {},
   "source": [
    "#### Final Question\n",
    "\n",
    "What's something fun/weird/interesting you discovered while exploring some data in this assignment? (Totally feel free to leave this blank...)"
   ]
  },
  {
   "cell_type": "markdown",
   "metadata": {},
   "source": [
    "> ...put you answer in this cell."
   ]
  },
  {
   "cell_type": "markdown",
   "metadata": {},
   "source": [
    "## Acknowledgments\n",
    "\n",
    "This assignment was inspired by [Chris Molanphy’s podcast “Hit Parade”](https://slate.com/podcasts/hit-parade) which dives into the history of popular music in the US. Former TA Allen Guo’s [billboard.py](https://github.com/guoguo12/billboard-charts) library made it possible to easily extract the data from Billboard’s ad-riddled website. \n",
    "\n",
    "If you’d like to explore any of the other charts, or perhaps query more recent data, you should give it a try."
   ]
  },
  {
   "cell_type": "markdown",
   "metadata": {},
   "source": [
    "## Submission\n",
    "\n",
    "Run the following cell to zip and download the results of your queries. You will also need to run the export cell at the end of the notebook.\n",
    "\n",
    "**Please save your notebook before exporting (this is a good time to do it!)** Otherwise, we may not be able to register your written responses.\n",
    "\n",
    "**For your submission on Gradescope, you will need to submit the `proj0.zip` file generated by the export cell.** Please ensure that your submission includes `proj0.pdf`, `proj0.ipynb`, `queries.zip`, and `results.zip`. \n",
    "\n",
    "**Please ensure that public tests pass upon submission.** It is your responsibility to wait until the autograder finishes running. We will not be accepting regrade requests for submission issues.\n",
    "\n",
    "**Common submission issues:** You MUST submit the generated zip file to the autograder. However, Safari is known to automatically unzip files upon downloading. You can fix this by going into Safari preferences, and deselect the box with the text \"Open safe files after downloading\" under the \"General\" tab. If you experience issues with downloading via clicking on the link, you can also navigate to the project 0 directory within JupyterHub (remove `proj0.ipynb` from the url), and manually download the generated zip files. Please post on Ed if you encounter any other submission issues.\n",
    "\n",
    "Run the following cell to zip and download the results of your queries. You will also need to run the export cell at the end of the notebook."
   ]
  },
  {
   "cell_type": "code",
   "execution_count": null,
   "metadata": {
    "scrolled": true
   },
   "outputs": [],
   "source": [
    "grading_util.prepare_submission_and_cleanup()"
   ]
  },
  {
   "cell_type": "code",
   "execution_count": null,
   "metadata": {},
   "outputs": [],
   "source": []
  },
  {
   "cell_type": "markdown",
   "metadata": {
    "deletable": false,
    "editable": false
   },
   "source": [
    "---\n",
    "\n",
    "To double-check your work, the cell below will rerun all of the autograder tests."
   ]
  },
  {
   "cell_type": "code",
   "execution_count": null,
   "metadata": {
    "deletable": false,
    "editable": false
   },
   "outputs": [],
   "source": [
    "grader.check_all()"
   ]
  },
  {
   "cell_type": "markdown",
   "metadata": {
    "deletable": false,
    "editable": false
   },
   "source": [
    "## Submission\n",
    "\n",
    "Make sure you have run all cells in your notebook in order before running the cell below, so that all images/graphs appear in the output. The cell below will generate a zip file for you to submit. **Please save before exporting!**"
   ]
  },
  {
   "cell_type": "code",
   "execution_count": null,
   "metadata": {
    "deletable": false,
    "editable": false
   },
   "outputs": [],
   "source": [
    "# Save your notebook first, then run this cell to export your submission.\n",
    "grader.export(files=['results.zip', 'queries.zip'])"
   ]
  },
  {
   "cell_type": "markdown",
   "metadata": {},
   "source": [
    " "
   ]
  }
 ],
 "metadata": {
  "kernelspec": {
   "display_name": "demo",
   "language": "python",
   "name": "python3"
  },
  "language_info": {
   "codemirror_mode": {
    "name": "ipython",
    "version": 3
   },
   "file_extension": ".py",
   "mimetype": "text/x-python",
   "name": "python",
   "nbconvert_exporter": "python",
   "pygments_lexer": "ipython3",
   "version": "3.11.13"
  },
  "otter": {
   "OK_FORMAT": true,
   "tests": {
    "q1a": {
     "name": "q1a",
     "points": 1,
     "suites": [
      {
       "cases": [
        {
         "code": ">>> result_1a.shape\n(1, 1)",
         "hidden": false,
         "locked": false
        },
        {
         "code": ">>> str(list(result_1a.columns))\n\"['count']\"",
         "hidden": false,
         "locked": false
        }
       ],
       "scored": true,
       "setup": "",
       "teardown": "",
       "type": "doctest"
      }
     ]
    },
    "q1b": {
     "name": "q1b",
     "points": 1,
     "suites": [
      {
       "cases": [
        {
         "code": ">>> result_1b.shape\n(25, 7)",
         "hidden": false,
         "locked": false
        },
        {
         "code": ">>> str(list(result_1b.columns))\n\"['week_ending', 'rank', 'title', 'artist', 'image_url', 'peak_position', 'weeks_on_chart']\"",
         "hidden": false,
         "locked": false
        }
       ],
       "scored": true,
       "setup": "",
       "teardown": "",
       "type": "doctest"
      }
     ]
    },
    "q2": {
     "name": "q2",
     "points": 3,
     "suites": [
      {
       "cases": [
        {
         "code": ">>> result_2.shape\n(11, 2)",
         "hidden": false,
         "locked": false
        },
        {
         "code": ">>> str(list(result_2.columns))\n\"['title', 'artist']\"",
         "hidden": false,
         "locked": false
        },
        {
         "code": ">>> result_2['title'].iloc[:3]\n0      Paint The Town Red\n1             Lovin On Me\n2    Standing Next To You\nName: title, dtype: object",
         "hidden": false,
         "locked": false
        },
        {
         "code": ">>> result_2['artist'].iloc[:3]\n0       Doja Cat\n1    Jack Harlow\n2      Jung Kook\nName: artist, dtype: object",
         "hidden": false,
         "locked": false
        }
       ],
       "scored": true,
       "setup": "",
       "teardown": "",
       "type": "doctest"
      }
     ]
    },
    "q3": {
     "name": "q3",
     "points": 3,
     "suites": [
      {
       "cases": [
        {
         "code": ">>> query_3, result_3_df = grading_util.load_results('result_3')\n>>> result_3_df.shape == (11, 2)\nTrue",
         "hidden": false,
         "locked": false
        },
        {
         "code": ">>> query_3, result_3_df = grading_util.load_results('result_3')\n>>> result_3_df.columns == ['title', 'artist']\narray([ True,  True])",
         "hidden": false,
         "locked": false
        },
        {
         "code": ">>> query_3, result_3_df = grading_util.load_results('result_3')\n>>> result_3_df['title'].iloc[:3]\n0      Paint The Town Red\n1             Lovin On Me\n2    Standing Next To You\nName: title, dtype: object",
         "hidden": false,
         "locked": false
        },
        {
         "code": ">>> query_3, result_3_df = grading_util.load_results('result_3')\n>>> result_3_df['artist'].iloc[:3]\n0       Doja Cat\n1    Jack Harlow\n2      Jung Kook\nName: artist, dtype: object",
         "hidden": false,
         "locked": false
        }
       ],
       "scored": true,
       "setup": "",
       "teardown": "",
       "type": "doctest"
      }
     ]
    }
   }
  }
 },
 "nbformat": 4,
 "nbformat_minor": 4
}
