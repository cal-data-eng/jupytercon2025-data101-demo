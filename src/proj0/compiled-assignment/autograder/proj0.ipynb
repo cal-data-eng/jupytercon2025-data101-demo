{
 "cells": [
  {
   "cell_type": "code",
   "execution_count": null,
   "metadata": {
    "deletable": false,
    "editable": false
   },
   "outputs": [],
   "source": [
    "# Initialize Otter\n",
    "import otter\n",
    "grader = otter.Notebook(\"proj0.ipynb\")"
   ]
  },
  {
   "cell_type": "markdown",
   "metadata": {},
   "source": [
    "# Project 0 - SQL Review -- Music Querying\n",
    "\n",
    "In this project, we will be working with SQL on a Billboard Music database."
   ]
  },
  {
   "cell_type": "code",
   "execution_count": 1,
   "metadata": {},
   "outputs": [],
   "source": [
    "# Run this cell to set up imports\n",
    "import numpy as np\n",
    "import pandas as pd"
   ]
  },
  {
   "cell_type": "code",
   "execution_count": 2,
   "metadata": {},
   "outputs": [],
   "source": [
    "# Set up autoreloading imported .py modules such as data101_utils.py\n",
    "%load_ext autoreload\n",
    "%autoreload 2"
   ]
  },
  {
   "cell_type": "markdown",
   "metadata": {},
   "source": [
    "<hr style=\"border: 5px solid #003262;\" />\n",
    "<hr style=\"border: 1px solid #fdb515;\" />\n",
    "\n",
    "# Setup\n",
    "\n",
    "## Database Setup\n",
    "We are going to be using the `JupySQL` library to connect our notebook to a PostgreSQL database server on your JupyterHub account. Running the next cell will do so; you should not see any error messages after it executes."
   ]
  },
  {
   "cell_type": "code",
   "execution_count": 3,
   "metadata": {},
   "outputs": [],
   "source": [
    "# The first time you are running this cell, you may need to run the following line as: %load_ext sql\n",
    "%reload_ext sql"
   ]
  },
  {
   "cell_type": "markdown",
   "metadata": {},
   "source": [
    "In the next cell, we will unzip the data. This only needs to be done once."
   ]
  },
  {
   "cell_type": "code",
   "execution_count": 4,
   "metadata": {},
   "outputs": [
    {
     "name": "stdout",
     "output_type": "stream",
     "text": [
      "Archive:  data/billboard.zip\n"
     ]
    }
   ],
   "source": [
    "!unzip -uo data/billboard.zip -d data/"
   ]
  },
  {
   "cell_type": "markdown",
   "metadata": {},
   "source": [
    "<br/>\n",
    "\n",
    "**Create the `billboard` database**: <br>\n",
    "We will use PostgreSQL commands to create a database and import our data into it. Run the following cell to do this. It may take a few seconds.\n",
    "\n",
    "* You can also run these cells in the command-line via `psql`.\n",
    "* If you run into the **role does not exist** error, feel free to ignore it. It does not affect data import."
   ]
  },
  {
   "cell_type": "code",
   "execution_count": 6,
   "metadata": {
    "scrolled": true
   },
   "outputs": [
    {
     "name": "stdout",
     "output_type": "stream",
     "text": [
      " pg_terminate_backend \n",
      "----------------------\n",
      " t\n",
      "(1 row)\n",
      "\n",
      "DROP DATABASE\n",
      "CREATE DATABASE\n"
     ]
    }
   ],
   "source": [
    "!/opt/homebrew/bin/psql postgresql://localhost/billboard -c 'SELECT pg_terminate_backend(pg_stat_activity.pid) FROM pg_stat_activity WHERE datname = current_database()  AND pid <> pg_backend_pid();'\n",
    "!/opt/homebrew/bin/psql postgresql://localhost/postgres -c 'DROP DATABASE IF EXISTS billboard'\n",
    "!/opt/homebrew/bin/psql postgresql://localhost/postgres -c 'CREATE DATABASE billboard'\n",
    "!/opt/homebrew/bin/psql postgresql://localhost/billboard -f data/billboard.sql -q"
   ]
  },
  {
   "cell_type": "markdown",
   "metadata": {},
   "source": [
    "**Connect to `billboard` database in the Notebook**: \n",
    "<br>\n",
    "Now let's connect to the new database we just created! There should be no errors after running the following cell."
   ]
  },
  {
   "cell_type": "code",
   "execution_count": 7,
   "metadata": {},
   "outputs": [
    {
     "data": {
      "text/html": [
       "<span style=\"None\">Connecting to &#x27;postgresql://localhost/billboard&#x27;</span>"
      ],
      "text/plain": [
       "Connecting to 'postgresql://localhost/billboard'"
      ]
     },
     "metadata": {},
     "output_type": "display_data"
    }
   ],
   "source": [
    "%sql postgresql://localhost/billboard"
   ]
  },
  {
   "cell_type": "markdown",
   "metadata": {},
   "source": [
    "Assuming the previous command doesn't show an error, this will use the current connection to show all tables in the `billboard` database."
   ]
  },
  {
   "cell_type": "code",
   "execution_count": 8,
   "metadata": {},
   "outputs": [
    {
     "data": {
      "text/html": [
       "<table>\n",
       "    <thead>\n",
       "        <tr>\n",
       "            <th>Name</th>\n",
       "        </tr>\n",
       "    </thead>\n",
       "    <tbody>\n",
       "        <tr>\n",
       "            <td>hot_100</td>\n",
       "        </tr>\n",
       "        <tr>\n",
       "            <td>tiktok_top_50</td>\n",
       "        </tr>\n",
       "    </tbody>\n",
       "</table>"
      ],
      "text/plain": [
       "+---------------+\n",
       "|      Name     |\n",
       "+---------------+\n",
       "|    hot_100    |\n",
       "| tiktok_top_50 |\n",
       "+---------------+"
      ]
     },
     "execution_count": 8,
     "metadata": {},
     "output_type": "execute_result"
    }
   ],
   "source": [
    "%sqlcmd tables"
   ]
  },
  {
   "cell_type": "markdown",
   "metadata": {},
   "source": [
    "---\n",
    "\n",
    "**Quick check**: To make sure things are working, let's fetch 10 rows from one of each table. Just run the following cells. If there are no errors, no further action is needed."
   ]
  },
  {
   "cell_type": "code",
   "execution_count": 16,
   "metadata": {},
   "outputs": [
    {
     "data": {
      "text/html": [
       "<span style=\"None\">Running query in &#x27;postgresql://localhost/billboard&#x27;</span>"
      ],
      "text/plain": [
       "Running query in 'postgresql://localhost/billboard'"
      ]
     },
     "metadata": {},
     "output_type": "display_data"
    },
    {
     "data": {
      "text/html": [
       "<span style=\"color: green\">10 rows affected.</span>"
      ],
      "text/plain": [
       "10 rows affected."
      ]
     },
     "metadata": {},
     "output_type": "display_data"
    },
    {
     "data": {
      "text/html": [
       "<table>\n",
       "    <thead>\n",
       "        <tr>\n",
       "            <th>week_ending</th>\n",
       "            <th>rank</th>\n",
       "            <th>title</th>\n",
       "            <th>artist</th>\n",
       "            <th>image_url</th>\n",
       "            <th>peak_position</th>\n",
       "            <th>weeks_on_chart</th>\n",
       "        </tr>\n",
       "    </thead>\n",
       "    <tbody>\n",
       "        <tr>\n",
       "            <td>1958-08-04</td>\n",
       "            <td>1</td>\n",
       "            <td>Poor Little Fool</td>\n",
       "            <td>Ricky Nelson</td>\n",
       "            <td><a href=https://www.billboard.com/wp-content/themes/vip/pmc-billboard-2021/assets/public/lazyload-fallback.gif>https://www.billboard.com/wp-content/themes/vip/pmc-billboard-2021/assets/public/lazyload-fallback.gif</a></td>\n",
       "            <td>1</td>\n",
       "            <td>1</td>\n",
       "        </tr>\n",
       "        <tr>\n",
       "            <td>1958-08-04</td>\n",
       "            <td>2</td>\n",
       "            <td>Patricia</td>\n",
       "            <td>Perez Prado And His Orchestra</td>\n",
       "            <td><a href=https://www.billboard.com/wp-content/themes/vip/pmc-billboard-2021/assets/public/lazyload-fallback.gif>https://www.billboard.com/wp-content/themes/vip/pmc-billboard-2021/assets/public/lazyload-fallback.gif</a></td>\n",
       "            <td>2</td>\n",
       "            <td>1</td>\n",
       "        </tr>\n",
       "        <tr>\n",
       "            <td>1958-08-04</td>\n",
       "            <td>3</td>\n",
       "            <td>Splish Splash</td>\n",
       "            <td>Bobby Darin</td>\n",
       "            <td><a href=https://charts-static.billboard.com/img/1958/08/bobby-darin-hm6-180x180.jpg>https://charts-static.billboard.com/img/1958/08/bobby-darin-hm6-180x180.jpg</a></td>\n",
       "            <td>3</td>\n",
       "            <td>1</td>\n",
       "        </tr>\n",
       "        <tr>\n",
       "            <td>1958-08-04</td>\n",
       "            <td>4</td>\n",
       "            <td>Hard Headed Woman</td>\n",
       "            <td>Elvis Presley With The Jordanaires</td>\n",
       "            <td><a href=https://charts-static.billboard.com/img/1958/08/elvis-presley-0r3-180x180.jpg>https://charts-static.billboard.com/img/1958/08/elvis-presley-0r3-180x180.jpg</a></td>\n",
       "            <td>4</td>\n",
       "            <td>1</td>\n",
       "        </tr>\n",
       "        <tr>\n",
       "            <td>1958-08-04</td>\n",
       "            <td>5</td>\n",
       "            <td>When</td>\n",
       "            <td>Kalin Twins</td>\n",
       "            <td><a href=https://www.billboard.com/wp-content/themes/vip/pmc-billboard-2021/assets/public/lazyload-fallback.gif>https://www.billboard.com/wp-content/themes/vip/pmc-billboard-2021/assets/public/lazyload-fallback.gif</a></td>\n",
       "            <td>5</td>\n",
       "            <td>1</td>\n",
       "        </tr>\n",
       "        <tr>\n",
       "            <td>1958-08-04</td>\n",
       "            <td>6</td>\n",
       "            <td>Rebel-'rouser</td>\n",
       "            <td>Duane Eddy His Twangy Guitar And The Rebels</td>\n",
       "            <td><a href=https://charts-static.billboard.com/img/1958/08/duane-eddy-vt9-180x180.jpg>https://charts-static.billboard.com/img/1958/08/duane-eddy-vt9-180x180.jpg</a></td>\n",
       "            <td>6</td>\n",
       "            <td>1</td>\n",
       "        </tr>\n",
       "        <tr>\n",
       "            <td>1958-08-04</td>\n",
       "            <td>7</td>\n",
       "            <td>Yakety Yak</td>\n",
       "            <td>The Coasters</td>\n",
       "            <td><a href=https://charts-static.billboard.com/img/1958/08/the-coasters-jiw-180x180.jpg>https://charts-static.billboard.com/img/1958/08/the-coasters-jiw-180x180.jpg</a></td>\n",
       "            <td>7</td>\n",
       "            <td>1</td>\n",
       "        </tr>\n",
       "        <tr>\n",
       "            <td>1958-08-04</td>\n",
       "            <td>8</td>\n",
       "            <td>My True Love</td>\n",
       "            <td>Jack Scott</td>\n",
       "            <td><a href=https://www.billboard.com/wp-content/themes/vip/pmc-billboard-2021/assets/public/lazyload-fallback.gif>https://www.billboard.com/wp-content/themes/vip/pmc-billboard-2021/assets/public/lazyload-fallback.gif</a></td>\n",
       "            <td>8</td>\n",
       "            <td>1</td>\n",
       "        </tr>\n",
       "        <tr>\n",
       "            <td>1958-08-04</td>\n",
       "            <td>9</td>\n",
       "            <td>Willie And The Hand Jive</td>\n",
       "            <td>The Johnny Otis Show</td>\n",
       "            <td><a href=https://www.billboard.com/wp-content/themes/vip/pmc-billboard-2021/assets/public/lazyload-fallback.gif>https://www.billboard.com/wp-content/themes/vip/pmc-billboard-2021/assets/public/lazyload-fallback.gif</a></td>\n",
       "            <td>9</td>\n",
       "            <td>1</td>\n",
       "        </tr>\n",
       "        <tr>\n",
       "            <td>1958-08-04</td>\n",
       "            <td>10</td>\n",
       "            <td>Fever</td>\n",
       "            <td>Peggy Lee</td>\n",
       "            <td><a href=https://charts-static.billboard.com/img/1958/08/peggy-lee-55r-180x180.jpg>https://charts-static.billboard.com/img/1958/08/peggy-lee-55r-180x180.jpg</a></td>\n",
       "            <td>10</td>\n",
       "            <td>1</td>\n",
       "        </tr>\n",
       "    </tbody>\n",
       "</table>\n",
       "<span style=\"font-style:italic;text-align:center;\">Truncated to <a href=\"https://jupysql.ploomber.io/en/latest/api/configuration.html#displaylimit\">displaylimit</a> of 10.</span>"
      ],
      "text/plain": [
       "+-------------+------+--------------------------+---------------------------------------------+---------------------------------------------------------------------------------------------------------------------------------------------------------------------------------------------------------------------------+---------------+----------------+\n",
       "| week_ending | rank |          title           |                    artist                   |                                                                                                         image_url                                                                                                         | peak_position | weeks_on_chart |\n",
       "+-------------+------+--------------------------+---------------------------------------------+---------------------------------------------------------------------------------------------------------------------------------------------------------------------------------------------------------------------------+---------------+----------------+\n",
       "|  1958-08-04 |  1   |     Poor Little Fool     |                 Ricky Nelson                | <a href=https://www.billboard.com/wp-content/themes/vip/pmc-billboard-2021/assets/public/lazyload-fallback.gif>https://www.billboard.com/wp-content/themes/vip/pmc-billboard-2021/assets/public/lazyload-fallback.gif</a> |       1       |       1        |\n",
       "|  1958-08-04 |  2   |         Patricia         |        Perez Prado And His Orchestra        | <a href=https://www.billboard.com/wp-content/themes/vip/pmc-billboard-2021/assets/public/lazyload-fallback.gif>https://www.billboard.com/wp-content/themes/vip/pmc-billboard-2021/assets/public/lazyload-fallback.gif</a> |       2       |       1        |\n",
       "|  1958-08-04 |  3   |      Splish Splash       |                 Bobby Darin                 |                            <a href=https://charts-static.billboard.com/img/1958/08/bobby-darin-hm6-180x180.jpg>https://charts-static.billboard.com/img/1958/08/bobby-darin-hm6-180x180.jpg</a>                            |       3       |       1        |\n",
       "|  1958-08-04 |  4   |    Hard Headed Woman     |      Elvis Presley With The Jordanaires     |                          <a href=https://charts-static.billboard.com/img/1958/08/elvis-presley-0r3-180x180.jpg>https://charts-static.billboard.com/img/1958/08/elvis-presley-0r3-180x180.jpg</a>                          |       4       |       1        |\n",
       "|  1958-08-04 |  5   |           When           |                 Kalin Twins                 | <a href=https://www.billboard.com/wp-content/themes/vip/pmc-billboard-2021/assets/public/lazyload-fallback.gif>https://www.billboard.com/wp-content/themes/vip/pmc-billboard-2021/assets/public/lazyload-fallback.gif</a> |       5       |       1        |\n",
       "|  1958-08-04 |  6   |      Rebel-'rouser       | Duane Eddy His Twangy Guitar And The Rebels |                             <a href=https://charts-static.billboard.com/img/1958/08/duane-eddy-vt9-180x180.jpg>https://charts-static.billboard.com/img/1958/08/duane-eddy-vt9-180x180.jpg</a>                             |       6       |       1        |\n",
       "|  1958-08-04 |  7   |        Yakety Yak        |                 The Coasters                |                           <a href=https://charts-static.billboard.com/img/1958/08/the-coasters-jiw-180x180.jpg>https://charts-static.billboard.com/img/1958/08/the-coasters-jiw-180x180.jpg</a>                           |       7       |       1        |\n",
       "|  1958-08-04 |  8   |       My True Love       |                  Jack Scott                 | <a href=https://www.billboard.com/wp-content/themes/vip/pmc-billboard-2021/assets/public/lazyload-fallback.gif>https://www.billboard.com/wp-content/themes/vip/pmc-billboard-2021/assets/public/lazyload-fallback.gif</a> |       8       |       1        |\n",
       "|  1958-08-04 |  9   | Willie And The Hand Jive |             The Johnny Otis Show            | <a href=https://www.billboard.com/wp-content/themes/vip/pmc-billboard-2021/assets/public/lazyload-fallback.gif>https://www.billboard.com/wp-content/themes/vip/pmc-billboard-2021/assets/public/lazyload-fallback.gif</a> |       9       |       1        |\n",
       "|  1958-08-04 |  10  |          Fever           |                  Peggy Lee                  |                              <a href=https://charts-static.billboard.com/img/1958/08/peggy-lee-55r-180x180.jpg>https://charts-static.billboard.com/img/1958/08/peggy-lee-55r-180x180.jpg</a>                              |       10      |       1        |\n",
       "+-------------+------+--------------------------+---------------------------------------------+---------------------------------------------------------------------------------------------------------------------------------------------------------------------------------------------------------------------------+---------------+----------------+\n",
       "Truncated to displaylimit of 10."
      ]
     },
     "execution_count": 16,
     "metadata": {},
     "output_type": "execute_result"
    }
   ],
   "source": [
    "%%sql\n",
    "SELECT * FROM hot_100 LIMIT 10;"
   ]
  },
  {
   "cell_type": "code",
   "execution_count": 17,
   "metadata": {},
   "outputs": [
    {
     "data": {
      "text/html": [
       "<span style=\"None\">Running query in &#x27;postgresql://localhost/billboard&#x27;</span>"
      ],
      "text/plain": [
       "Running query in 'postgresql://localhost/billboard'"
      ]
     },
     "metadata": {},
     "output_type": "display_data"
    },
    {
     "data": {
      "text/html": [
       "<span style=\"color: green\">10 rows affected.</span>"
      ],
      "text/plain": [
       "10 rows affected."
      ]
     },
     "metadata": {},
     "output_type": "display_data"
    },
    {
     "data": {
      "text/html": [
       "<table>\n",
       "    <thead>\n",
       "        <tr>\n",
       "            <th>week_ending</th>\n",
       "            <th>rank</th>\n",
       "            <th>title</th>\n",
       "            <th>artist</th>\n",
       "            <th>image_url</th>\n",
       "            <th>peak_position</th>\n",
       "            <th>weeks_on_chart</th>\n",
       "        </tr>\n",
       "    </thead>\n",
       "    <tbody>\n",
       "        <tr>\n",
       "            <td>2023-09-16</td>\n",
       "            <td>1</td>\n",
       "            <td>SkeeYee</td>\n",
       "            <td>Sexyy Red</td>\n",
       "            <td><a href=https://charts-static.billboard.com/img/2023/08/sexyyred-8hq-skeeyee-jvl-180x180.jpg>https://charts-static.billboard.com/img/2023/08/sexyyred-8hq-skeeyee-jvl-180x180.jpg</a></td>\n",
       "            <td>1</td>\n",
       "            <td>1</td>\n",
       "        </tr>\n",
       "        <tr>\n",
       "            <td>2023-09-16</td>\n",
       "            <td>2</td>\n",
       "            <td>Paint The Town Red</td>\n",
       "            <td>Doja Cat</td>\n",
       "            <td><a href=https://charts-static.billboard.com/img/2023/08/dojacat-cqv-paintthetownred-unh-180x180.jpg>https://charts-static.billboard.com/img/2023/08/dojacat-cqv-paintthetownred-unh-180x180.jpg</a></td>\n",
       "            <td>2</td>\n",
       "            <td>1</td>\n",
       "        </tr>\n",
       "        <tr>\n",
       "            <td>2023-09-16</td>\n",
       "            <td>3</td>\n",
       "            <td>August</td>\n",
       "            <td>Taylor Swift</td>\n",
       "            <td><a href=https://charts-static.billboard.com/img/2006/07/taylor-swift-9sy-180x180.jpg>https://charts-static.billboard.com/img/2006/07/taylor-swift-9sy-180x180.jpg</a></td>\n",
       "            <td>3</td>\n",
       "            <td>1</td>\n",
       "        </tr>\n",
       "        <tr>\n",
       "            <td>2023-09-16</td>\n",
       "            <td>4</td>\n",
       "            <td>Go!</td>\n",
       "            <td>Greg Cipes, Scott Menville, Khary Payton, Tara Strong & Hynden Walch</td>\n",
       "            <td><a href=https://charts-static.billboard.com/img/2018/08/gregcipes-000-go-gll-180x180.jpg>https://charts-static.billboard.com/img/2018/08/gregcipes-000-go-gll-180x180.jpg</a></td>\n",
       "            <td>4</td>\n",
       "            <td>1</td>\n",
       "        </tr>\n",
       "        <tr>\n",
       "            <td>2023-09-16</td>\n",
       "            <td>5</td>\n",
       "            <td>I Remember Everything</td>\n",
       "            <td>Zach Bryan Featuring Kacey Musgraves</td>\n",
       "            <td><a href=https://charts-static.billboard.com/img/2023/09/zachbryan-de1-iremembereverything-to3-180x180.jpg>https://charts-static.billboard.com/img/2023/09/zachbryan-de1-iremembereverything-to3-180x180.jpg</a></td>\n",
       "            <td>5</td>\n",
       "            <td>1</td>\n",
       "        </tr>\n",
       "        <tr>\n",
       "            <td>2023-09-16</td>\n",
       "            <td>6</td>\n",
       "            <td>Deli</td>\n",
       "            <td>Ice Spice</td>\n",
       "            <td><a href=https://charts-static.billboard.com/img/2022/09/icespice-ouz-180x180.jpg>https://charts-static.billboard.com/img/2022/09/icespice-ouz-180x180.jpg</a></td>\n",
       "            <td>6</td>\n",
       "            <td>1</td>\n",
       "        </tr>\n",
       "        <tr>\n",
       "            <td>2023-09-16</td>\n",
       "            <td>7</td>\n",
       "            <td>I Love You Hoe</td>\n",
       "            <td>Odetari & 9lives</td>\n",
       "            <td><a href=https://charts-static.billboard.com/img/2023/08/odetari-31a-iloveyouhoe-p6l-180x180.jpg>https://charts-static.billboard.com/img/2023/08/odetari-31a-iloveyouhoe-p6l-180x180.jpg</a></td>\n",
       "            <td>7</td>\n",
       "            <td>1</td>\n",
       "        </tr>\n",
       "        <tr>\n",
       "            <td>2023-09-16</td>\n",
       "            <td>8</td>\n",
       "            <td>It's Getting Hot</td>\n",
       "            <td>NLE Choppa</td>\n",
       "            <td><a href=https://charts-static.billboard.com/img/2023/08/nlechoppa-000-itsgettinghot-k6f-180x180.jpg>https://charts-static.billboard.com/img/2023/08/nlechoppa-000-itsgettinghot-k6f-180x180.jpg</a></td>\n",
       "            <td>8</td>\n",
       "            <td>1</td>\n",
       "        </tr>\n",
       "        <tr>\n",
       "            <td>2023-09-16</td>\n",
       "            <td>9</td>\n",
       "            <td>I'm Blessed</td>\n",
       "            <td>Charlie Wilson Featuring T.I.</td>\n",
       "            <td><a href=https://charts-static.billboard.com/img/2017/01/charlie-wilson-4cp-imblessed-p3c-180x180.jpg>https://charts-static.billboard.com/img/2017/01/charlie-wilson-4cp-imblessed-p3c-180x180.jpg</a></td>\n",
       "            <td>9</td>\n",
       "            <td>1</td>\n",
       "        </tr>\n",
       "        <tr>\n",
       "            <td>2023-09-16</td>\n",
       "            <td>10</td>\n",
       "            <td>Let It Whip</td>\n",
       "            <td>Dazz Band</td>\n",
       "            <td><a href=https://charts-static.billboard.com/img/1982/03/dazz-band-s10-letitwhip-dkw-180x180.jpg>https://charts-static.billboard.com/img/1982/03/dazz-band-s10-letitwhip-dkw-180x180.jpg</a></td>\n",
       "            <td>10</td>\n",
       "            <td>1</td>\n",
       "        </tr>\n",
       "    </tbody>\n",
       "</table>\n",
       "<span style=\"font-style:italic;text-align:center;\">Truncated to <a href=\"https://jupysql.ploomber.io/en/latest/api/configuration.html#displaylimit\">displaylimit</a> of 10.</span>"
      ],
      "text/plain": [
       "+-------------+------+-----------------------+----------------------------------------------------------------------+-----------------------------------------------------------------------------------------------------------------------------------------------------------------------------------------------------------------+---------------+----------------+\n",
       "| week_ending | rank |         title         |                                artist                                |                                                                                                    image_url                                                                                                    | peak_position | weeks_on_chart |\n",
       "+-------------+------+-----------------------+----------------------------------------------------------------------+-----------------------------------------------------------------------------------------------------------------------------------------------------------------------------------------------------------------+---------------+----------------+\n",
       "|  2023-09-16 |  1   |        SkeeYee        |                              Sexyy Red                               |              <a href=https://charts-static.billboard.com/img/2023/08/sexyyred-8hq-skeeyee-jvl-180x180.jpg>https://charts-static.billboard.com/img/2023/08/sexyyred-8hq-skeeyee-jvl-180x180.jpg</a>              |       1       |       1        |\n",
       "|  2023-09-16 |  2   |   Paint The Town Red  |                               Doja Cat                               |       <a href=https://charts-static.billboard.com/img/2023/08/dojacat-cqv-paintthetownred-unh-180x180.jpg>https://charts-static.billboard.com/img/2023/08/dojacat-cqv-paintthetownred-unh-180x180.jpg</a>       |       2       |       1        |\n",
       "|  2023-09-16 |  3   |         August        |                             Taylor Swift                             |                      <a href=https://charts-static.billboard.com/img/2006/07/taylor-swift-9sy-180x180.jpg>https://charts-static.billboard.com/img/2006/07/taylor-swift-9sy-180x180.jpg</a>                      |       3       |       1        |\n",
       "|  2023-09-16 |  4   |          Go!          | Greg Cipes, Scott Menville, Khary Payton, Tara Strong & Hynden Walch |                  <a href=https://charts-static.billboard.com/img/2018/08/gregcipes-000-go-gll-180x180.jpg>https://charts-static.billboard.com/img/2018/08/gregcipes-000-go-gll-180x180.jpg</a>                  |       4       |       1        |\n",
       "|  2023-09-16 |  5   | I Remember Everything |                 Zach Bryan Featuring Kacey Musgraves                 | <a href=https://charts-static.billboard.com/img/2023/09/zachbryan-de1-iremembereverything-to3-180x180.jpg>https://charts-static.billboard.com/img/2023/09/zachbryan-de1-iremembereverything-to3-180x180.jpg</a> |       5       |       1        |\n",
       "|  2023-09-16 |  6   |          Deli         |                              Ice Spice                               |                          <a href=https://charts-static.billboard.com/img/2022/09/icespice-ouz-180x180.jpg>https://charts-static.billboard.com/img/2022/09/icespice-ouz-180x180.jpg</a>                          |       6       |       1        |\n",
       "|  2023-09-16 |  7   |     I Love You Hoe    |                           Odetari & 9lives                           |           <a href=https://charts-static.billboard.com/img/2023/08/odetari-31a-iloveyouhoe-p6l-180x180.jpg>https://charts-static.billboard.com/img/2023/08/odetari-31a-iloveyouhoe-p6l-180x180.jpg</a>           |       7       |       1        |\n",
       "|  2023-09-16 |  8   |    It's Getting Hot   |                              NLE Choppa                              |       <a href=https://charts-static.billboard.com/img/2023/08/nlechoppa-000-itsgettinghot-k6f-180x180.jpg>https://charts-static.billboard.com/img/2023/08/nlechoppa-000-itsgettinghot-k6f-180x180.jpg</a>       |       8       |       1        |\n",
       "|  2023-09-16 |  9   |      I'm Blessed      |                    Charlie Wilson Featuring T.I.                     |      <a href=https://charts-static.billboard.com/img/2017/01/charlie-wilson-4cp-imblessed-p3c-180x180.jpg>https://charts-static.billboard.com/img/2017/01/charlie-wilson-4cp-imblessed-p3c-180x180.jpg</a>      |       9       |       1        |\n",
       "|  2023-09-16 |  10  |      Let It Whip      |                              Dazz Band                               |           <a href=https://charts-static.billboard.com/img/1982/03/dazz-band-s10-letitwhip-dkw-180x180.jpg>https://charts-static.billboard.com/img/1982/03/dazz-band-s10-letitwhip-dkw-180x180.jpg</a>           |       10      |       1        |\n",
       "+-------------+------+-----------------------+----------------------------------------------------------------------+-----------------------------------------------------------------------------------------------------------------------------------------------------------------------------------------------------------------+---------------+----------------+\n",
       "Truncated to displaylimit of 10."
      ]
     },
     "execution_count": 17,
     "metadata": {},
     "output_type": "execute_result"
    }
   ],
   "source": [
    "%%sql\n",
    "SELECT *\n",
    "  FROM tiktok_top_50\n",
    "LIMIT 10"
   ]
  },
  {
   "cell_type": "markdown",
   "metadata": {},
   "source": [
    "## Grader Setup"
   ]
  },
  {
   "cell_type": "code",
   "execution_count": 13,
   "metadata": {},
   "outputs": [
    {
     "name": "stdout",
     "output_type": "stream",
     "text": [
      "Successfully opened database connection\n"
     ]
    }
   ],
   "source": [
    "# Connecting the grader\n",
    "# Just run the following cell, no further action is needed.\n",
    "from data101_utils import GradingUtil\n",
    "grading_util = GradingUtil(\"proj0\")\n",
    "grading_util.prepare_autograder(\"billboard\")"
   ]
  },
  {
   "cell_type": "code",
   "execution_count": 14,
   "metadata": {},
   "outputs": [
    {
     "data": {
      "text/html": [
       "<div>\n",
       "<style scoped>\n",
       "    .dataframe tbody tr th:only-of-type {\n",
       "        vertical-align: middle;\n",
       "    }\n",
       "\n",
       "    .dataframe tbody tr th {\n",
       "        vertical-align: top;\n",
       "    }\n",
       "\n",
       "    .dataframe thead th {\n",
       "        text-align: right;\n",
       "    }\n",
       "</style>\n",
       "<table border=\"1\" class=\"dataframe\">\n",
       "  <thead>\n",
       "    <tr style=\"text-align: right;\">\n",
       "      <th></th>\n",
       "      <th>week_ending</th>\n",
       "      <th>rank</th>\n",
       "      <th>title</th>\n",
       "      <th>artist</th>\n",
       "      <th>image_url</th>\n",
       "      <th>peak_position</th>\n",
       "      <th>weeks_on_chart</th>\n",
       "    </tr>\n",
       "  </thead>\n",
       "  <tbody>\n",
       "    <tr>\n",
       "      <th>0</th>\n",
       "      <td>1958-08-04</td>\n",
       "      <td>1</td>\n",
       "      <td>Poor Little Fool</td>\n",
       "      <td>Ricky Nelson</td>\n",
       "      <td>https://www.billboard.com/wp-content/themes/vip/pmc-billboard-2021/assets/public/lazyload-fallback.gif</td>\n",
       "      <td>1</td>\n",
       "      <td>1</td>\n",
       "    </tr>\n",
       "    <tr>\n",
       "      <th>1</th>\n",
       "      <td>1958-08-04</td>\n",
       "      <td>2</td>\n",
       "      <td>Patricia</td>\n",
       "      <td>Perez Prado And His Orchestra</td>\n",
       "      <td>https://www.billboard.com/wp-content/themes/vip/pmc-billboard-2021/assets/public/lazyload-fallback.gif</td>\n",
       "      <td>2</td>\n",
       "      <td>1</td>\n",
       "    </tr>\n",
       "    <tr>\n",
       "      <th>2</th>\n",
       "      <td>1958-08-04</td>\n",
       "      <td>3</td>\n",
       "      <td>Splish Splash</td>\n",
       "      <td>Bobby Darin</td>\n",
       "      <td>https://charts-static.billboard.com/img/1958/08/bobby-darin-hm6-180x180.jpg</td>\n",
       "      <td>3</td>\n",
       "      <td>1</td>\n",
       "    </tr>\n",
       "    <tr>\n",
       "      <th>3</th>\n",
       "      <td>1958-08-04</td>\n",
       "      <td>4</td>\n",
       "      <td>Hard Headed Woman</td>\n",
       "      <td>Elvis Presley With The Jordanaires</td>\n",
       "      <td>https://charts-static.billboard.com/img/1958/08/elvis-presley-0r3-180x180.jpg</td>\n",
       "      <td>4</td>\n",
       "      <td>1</td>\n",
       "    </tr>\n",
       "    <tr>\n",
       "      <th>4</th>\n",
       "      <td>1958-08-04</td>\n",
       "      <td>5</td>\n",
       "      <td>When</td>\n",
       "      <td>Kalin Twins</td>\n",
       "      <td>https://www.billboard.com/wp-content/themes/vip/pmc-billboard-2021/assets/public/lazyload-fallback.gif</td>\n",
       "      <td>5</td>\n",
       "      <td>1</td>\n",
       "    </tr>\n",
       "    <tr>\n",
       "      <th>5</th>\n",
       "      <td>1958-08-04</td>\n",
       "      <td>6</td>\n",
       "      <td>Rebel-'rouser</td>\n",
       "      <td>Duane Eddy His Twangy Guitar And The Rebels</td>\n",
       "      <td>https://charts-static.billboard.com/img/1958/08/duane-eddy-vt9-180x180.jpg</td>\n",
       "      <td>6</td>\n",
       "      <td>1</td>\n",
       "    </tr>\n",
       "    <tr>\n",
       "      <th>6</th>\n",
       "      <td>1958-08-04</td>\n",
       "      <td>7</td>\n",
       "      <td>Yakety Yak</td>\n",
       "      <td>The Coasters</td>\n",
       "      <td>https://charts-static.billboard.com/img/1958/08/the-coasters-jiw-180x180.jpg</td>\n",
       "      <td>7</td>\n",
       "      <td>1</td>\n",
       "    </tr>\n",
       "    <tr>\n",
       "      <th>7</th>\n",
       "      <td>1958-08-04</td>\n",
       "      <td>8</td>\n",
       "      <td>My True Love</td>\n",
       "      <td>Jack Scott</td>\n",
       "      <td>https://www.billboard.com/wp-content/themes/vip/pmc-billboard-2021/assets/public/lazyload-fallback.gif</td>\n",
       "      <td>8</td>\n",
       "      <td>1</td>\n",
       "    </tr>\n",
       "    <tr>\n",
       "      <th>8</th>\n",
       "      <td>1958-08-04</td>\n",
       "      <td>9</td>\n",
       "      <td>Willie And The Hand Jive</td>\n",
       "      <td>The Johnny Otis Show</td>\n",
       "      <td>https://www.billboard.com/wp-content/themes/vip/pmc-billboard-2021/assets/public/lazyload-fallback.gif</td>\n",
       "      <td>9</td>\n",
       "      <td>1</td>\n",
       "    </tr>\n",
       "    <tr>\n",
       "      <th>9</th>\n",
       "      <td>1958-08-04</td>\n",
       "      <td>10</td>\n",
       "      <td>Fever</td>\n",
       "      <td>Peggy Lee</td>\n",
       "      <td>https://charts-static.billboard.com/img/1958/08/peggy-lee-55r-180x180.jpg</td>\n",
       "      <td>10</td>\n",
       "      <td>1</td>\n",
       "    </tr>\n",
       "  </tbody>\n",
       "</table>\n",
       "</div>"
      ],
      "text/plain": [
       "  week_ending  rank                     title  \\\n",
       "0  1958-08-04     1          Poor Little Fool   \n",
       "1  1958-08-04     2                  Patricia   \n",
       "2  1958-08-04     3             Splish Splash   \n",
       "3  1958-08-04     4         Hard Headed Woman   \n",
       "4  1958-08-04     5                      When   \n",
       "5  1958-08-04     6             Rebel-'rouser   \n",
       "6  1958-08-04     7                Yakety Yak   \n",
       "7  1958-08-04     8              My True Love   \n",
       "8  1958-08-04     9  Willie And The Hand Jive   \n",
       "9  1958-08-04    10                     Fever   \n",
       "\n",
       "                                        artist  \\\n",
       "0                                 Ricky Nelson   \n",
       "1                Perez Prado And His Orchestra   \n",
       "2                                  Bobby Darin   \n",
       "3           Elvis Presley With The Jordanaires   \n",
       "4                                  Kalin Twins   \n",
       "5  Duane Eddy His Twangy Guitar And The Rebels   \n",
       "6                                 The Coasters   \n",
       "7                                   Jack Scott   \n",
       "8                         The Johnny Otis Show   \n",
       "9                                    Peggy Lee   \n",
       "\n",
       "                                                                                                image_url  \\\n",
       "0  https://www.billboard.com/wp-content/themes/vip/pmc-billboard-2021/assets/public/lazyload-fallback.gif   \n",
       "1  https://www.billboard.com/wp-content/themes/vip/pmc-billboard-2021/assets/public/lazyload-fallback.gif   \n",
       "2                             https://charts-static.billboard.com/img/1958/08/bobby-darin-hm6-180x180.jpg   \n",
       "3                           https://charts-static.billboard.com/img/1958/08/elvis-presley-0r3-180x180.jpg   \n",
       "4  https://www.billboard.com/wp-content/themes/vip/pmc-billboard-2021/assets/public/lazyload-fallback.gif   \n",
       "5                              https://charts-static.billboard.com/img/1958/08/duane-eddy-vt9-180x180.jpg   \n",
       "6                            https://charts-static.billboard.com/img/1958/08/the-coasters-jiw-180x180.jpg   \n",
       "7  https://www.billboard.com/wp-content/themes/vip/pmc-billboard-2021/assets/public/lazyload-fallback.gif   \n",
       "8  https://www.billboard.com/wp-content/themes/vip/pmc-billboard-2021/assets/public/lazyload-fallback.gif   \n",
       "9                               https://charts-static.billboard.com/img/1958/08/peggy-lee-55r-180x180.jpg   \n",
       "\n",
       "   peak_position  weeks_on_chart  \n",
       "0              1               1  \n",
       "1              2               1  \n",
       "2              3               1  \n",
       "3              4               1  \n",
       "4              5               1  \n",
       "5              6               1  \n",
       "6              7               1  \n",
       "7              8               1  \n",
       "8              9               1  \n",
       "9             10               1  "
      ]
     },
     "execution_count": 14,
     "metadata": {},
     "output_type": "execute_result"
    }
   ],
   "source": [
    "# Fetch random rows to check table exists\n",
    "grading_util.run_sql(\"SELECT * FROM hot_100 LIMIT 10;\")"
   ]
  },
  {
   "cell_type": "code",
   "execution_count": 24,
   "metadata": {},
   "outputs": [
    {
     "data": {
      "text/html": [
       "<div>\n",
       "<style scoped>\n",
       "    .dataframe tbody tr th:only-of-type {\n",
       "        vertical-align: middle;\n",
       "    }\n",
       "\n",
       "    .dataframe tbody tr th {\n",
       "        vertical-align: top;\n",
       "    }\n",
       "\n",
       "    .dataframe thead th {\n",
       "        text-align: right;\n",
       "    }\n",
       "</style>\n",
       "<table border=\"1\" class=\"dataframe\">\n",
       "  <thead>\n",
       "    <tr style=\"text-align: left;\">\n",
       "      <th></th>\n",
       "      <th>week_ending</th>\n",
       "      <th>rank</th>\n",
       "      <th>title</th>\n",
       "      <th>artist</th>\n",
       "      <th>image_url</th>\n",
       "      <th>peak_position</th>\n",
       "      <th>weeks_on_chart</th>\n",
       "    </tr>\n",
       "  </thead>\n",
       "  <tbody>\n",
       "    <tr>\n",
       "      <th>0</th>\n",
       "      <td>2023-09-16</td>\n",
       "      <td>1</td>\n",
       "      <td>SkeeYee</td>\n",
       "      <td>Sexyy Red</td>\n",
       "      <td>https://charts-static.billboard.com/img/2023/08/sexyyred-8hq-skeeyee-jvl-180x180.jpg</td>\n",
       "      <td>1</td>\n",
       "      <td>1</td>\n",
       "    </tr>\n",
       "    <tr>\n",
       "      <th>1</th>\n",
       "      <td>2023-09-16</td>\n",
       "      <td>2</td>\n",
       "      <td>Paint The Town Red</td>\n",
       "      <td>Doja Cat</td>\n",
       "      <td>https://charts-static.billboard.com/img/2023/08/dojacat-cqv-paintthetownred-unh-180x180.jpg</td>\n",
       "      <td>2</td>\n",
       "      <td>1</td>\n",
       "    </tr>\n",
       "    <tr>\n",
       "      <th>2</th>\n",
       "      <td>2023-09-16</td>\n",
       "      <td>3</td>\n",
       "      <td>August</td>\n",
       "      <td>Taylor Swift</td>\n",
       "      <td>https://charts-static.billboard.com/img/2006/07/taylor-swift-9sy-180x180.jpg</td>\n",
       "      <td>3</td>\n",
       "      <td>1</td>\n",
       "    </tr>\n",
       "    <tr>\n",
       "      <th>3</th>\n",
       "      <td>2023-09-16</td>\n",
       "      <td>4</td>\n",
       "      <td>Go!</td>\n",
       "      <td>Greg Cipes, Scott Menville, Khary Payton, Tara Strong &amp; Hynden Walch</td>\n",
       "      <td>https://charts-static.billboard.com/img/2018/08/gregcipes-000-go-gll-180x180.jpg</td>\n",
       "      <td>4</td>\n",
       "      <td>1</td>\n",
       "    </tr>\n",
       "    <tr>\n",
       "      <th>4</th>\n",
       "      <td>2023-09-16</td>\n",
       "      <td>5</td>\n",
       "      <td>I Remember Everything</td>\n",
       "      <td>Zach Bryan Featuring Kacey Musgraves</td>\n",
       "      <td>https://charts-static.billboard.com/img/2023/09/zachbryan-de1-iremembereverything-to3-180x180.jpg</td>\n",
       "      <td>5</td>\n",
       "      <td>1</td>\n",
       "    </tr>\n",
       "    <tr>\n",
       "      <th>5</th>\n",
       "      <td>2023-09-16</td>\n",
       "      <td>6</td>\n",
       "      <td>Deli</td>\n",
       "      <td>Ice Spice</td>\n",
       "      <td>https://charts-static.billboard.com/img/2022/09/icespice-ouz-180x180.jpg</td>\n",
       "      <td>6</td>\n",
       "      <td>1</td>\n",
       "    </tr>\n",
       "    <tr>\n",
       "      <th>6</th>\n",
       "      <td>2023-09-16</td>\n",
       "      <td>7</td>\n",
       "      <td>I Love You Hoe</td>\n",
       "      <td>Odetari &amp; 9lives</td>\n",
       "      <td>https://charts-static.billboard.com/img/2023/08/odetari-31a-iloveyouhoe-p6l-180x180.jpg</td>\n",
       "      <td>7</td>\n",
       "      <td>1</td>\n",
       "    </tr>\n",
       "    <tr>\n",
       "      <th>7</th>\n",
       "      <td>2023-09-16</td>\n",
       "      <td>8</td>\n",
       "      <td>It's Getting Hot</td>\n",
       "      <td>NLE Choppa</td>\n",
       "      <td>https://charts-static.billboard.com/img/2023/08/nlechoppa-000-itsgettinghot-k6f-180x180.jpg</td>\n",
       "      <td>8</td>\n",
       "      <td>1</td>\n",
       "    </tr>\n",
       "    <tr>\n",
       "      <th>8</th>\n",
       "      <td>2023-09-16</td>\n",
       "      <td>9</td>\n",
       "      <td>I'm Blessed</td>\n",
       "      <td>Charlie Wilson Featuring T.I.</td>\n",
       "      <td>https://charts-static.billboard.com/img/2017/01/charlie-wilson-4cp-imblessed-p3c-180x180.jpg</td>\n",
       "      <td>9</td>\n",
       "      <td>1</td>\n",
       "    </tr>\n",
       "    <tr>\n",
       "      <th>9</th>\n",
       "      <td>2023-09-16</td>\n",
       "      <td>10</td>\n",
       "      <td>Let It Whip</td>\n",
       "      <td>Dazz Band</td>\n",
       "      <td>https://charts-static.billboard.com/img/1982/03/dazz-band-s10-letitwhip-dkw-180x180.jpg</td>\n",
       "      <td>10</td>\n",
       "      <td>1</td>\n",
       "    </tr>\n",
       "  </tbody>\n",
       "</table>\n",
       "</div>"
      ],
      "text/plain": [
       "  week_ending  rank title                   \\\n",
       "0  2023-09-16   1                  SkeeYee   \n",
       "1  2023-09-16   2       Paint The Town Red   \n",
       "2  2023-09-16   3                   August   \n",
       "3  2023-09-16   4                      Go!   \n",
       "4  2023-09-16   5    I Remember Everything   \n",
       "5  2023-09-16   6                     Deli   \n",
       "6  2023-09-16   7           I Love You Hoe   \n",
       "7  2023-09-16   8         It's Getting Hot   \n",
       "8  2023-09-16   9              I'm Blessed   \n",
       "9  2023-09-16  10              Let It Whip   \n",
       "\n",
       "  artist                                                                 \\\n",
       "0                                                             Sexyy Red   \n",
       "1                                                              Doja Cat   \n",
       "2                                                          Taylor Swift   \n",
       "3  Greg Cipes, Scott Menville, Khary Payton, Tara Strong & Hynden Walch   \n",
       "4                                  Zach Bryan Featuring Kacey Musgraves   \n",
       "5                                                             Ice Spice   \n",
       "6                                                      Odetari & 9lives   \n",
       "7                                                            NLE Choppa   \n",
       "8                                         Charlie Wilson Featuring T.I.   \n",
       "9                                                             Dazz Band   \n",
       "\n",
       "  image_url                                                                                           \\\n",
       "0               https://charts-static.billboard.com/img/2023/08/sexyyred-8hq-skeeyee-jvl-180x180.jpg   \n",
       "1        https://charts-static.billboard.com/img/2023/08/dojacat-cqv-paintthetownred-unh-180x180.jpg   \n",
       "2                       https://charts-static.billboard.com/img/2006/07/taylor-swift-9sy-180x180.jpg   \n",
       "3                   https://charts-static.billboard.com/img/2018/08/gregcipes-000-go-gll-180x180.jpg   \n",
       "4  https://charts-static.billboard.com/img/2023/09/zachbryan-de1-iremembereverything-to3-180x180.jpg   \n",
       "5                           https://charts-static.billboard.com/img/2022/09/icespice-ouz-180x180.jpg   \n",
       "6            https://charts-static.billboard.com/img/2023/08/odetari-31a-iloveyouhoe-p6l-180x180.jpg   \n",
       "7        https://charts-static.billboard.com/img/2023/08/nlechoppa-000-itsgettinghot-k6f-180x180.jpg   \n",
       "8       https://charts-static.billboard.com/img/2017/01/charlie-wilson-4cp-imblessed-p3c-180x180.jpg   \n",
       "9            https://charts-static.billboard.com/img/1982/03/dazz-band-s10-letitwhip-dkw-180x180.jpg   \n",
       "\n",
       "   peak_position  weeks_on_chart  \n",
       "0   1             1               \n",
       "1   2             1               \n",
       "2   3             1               \n",
       "3   4             1               \n",
       "4   5             1               \n",
       "5   6             1               \n",
       "6   7             1               \n",
       "7   8             1               \n",
       "8   9             1               \n",
       "9  10             1               "
      ]
     },
     "execution_count": 24,
     "metadata": {},
     "output_type": "execute_result"
    }
   ],
   "source": [
    "# Fetch random rows to check table exists\n",
    "grading_util.run_sql(\"SELECT * FROM tiktok_top_50 LIMIT 10;\")"
   ]
  },
  {
   "cell_type": "markdown",
   "metadata": {},
   "source": [
    "## New Query Execution Workflow (you MUST read this!)\n",
    "\n",
    "In previous projects, we used an extension called JupySQL to run SQL directly in your Jupyter notebook. However, this can cause the notebook to be very long, and it also introduces unnecessary complexity when running the autograder. Starting with this project, we will be moving to a new query execution workflow where you will write your SQL queries in separate `.sql` files under the `queries` directory. It goes like this:\n",
    "\n",
    "1. Read and understand the question\n",
    "2. Open the `.sql` file that corresponds to that question. For example, for Q1b, you should open `queries/1b.sql`\n",
    "3. Write your SQL code in that file. **If there is starter code, make sure you do NOT delete any of it otherwise the autograder will fail!**\n",
    "4. **Save your SQL file.** This is ***SUPER IMPORTANT*** so that when you test your query result, it is running your most recent query.\n",
    "5. Go back to your project Jupyter notebook, and run the cell that contains the call to `grading_util.run_file`. It will look something like this:\n",
    "```python\n",
    "result_1b = grading_util.run_file(\"1b\")\n",
    "result_1b\n",
    "```\n",
    "6. Observe the output and run tests\n",
    "\n",
    "If you want to run one-off SQL queries (for example to explore the database), you can do that using `grading_util.run_sql` like so:\n",
    "```python\n",
    "grading_util.run_sql(\"SELECT 'YOUR CODE HERE';\")\n",
    "```\n",
    "7. Once you're done with the project, upload your `queries.zip` file (instead of `results.zip`). This file will be automatically created when you run `grading_util.prepare_submission_and_cleanup()`.\n",
    "\n",
    "**Dos and Don'ts**\n",
    "\n",
    "- If you encounter an error, **read the entire error message** before asking for help - it might be long, but it can be helpful! For example, if you have a syntax error in your SQL code, it should tell you which line it occurred on and where on that line it occurred.\n",
    "- You may find it useful to use **JupyterHub's split screen feature** so you can have the notebook and SQL file side by side. You can use this by dragging the tabs at the top. You can either do a left/right split or top/bottom split.\n",
    "- If you need to run a SQL statement that spans multiple lines, **use Python's multiline strings** which are enclosed in triple quotes:\n",
    "```python\n",
    "grading_util.run_sql(\"\"\"\n",
    "SELECT 'YOUR CODE HERE';\n",
    "SELECT 'YOUR CODE HERE';\n",
    "SELECT 'YOUR CODE HERE';\n",
    "\"\"\")\n",
    "```\n",
    "- Make sure to **terminate all SQL statements with a semicolon** and **enclose all subqueries in parentheses**.\n",
    "- You can run multiple statements within a file or within a single `run_sql` call. **The results of each statement will be returned in a list; you may index into the list to view the results of an individual statement.** If no rows are outputted by that statement, `None` will be returned (instead of a `pandas.DataFrame`)\n",
    "- You can learn more about the behavior of `run_sql` and `run_file` by running the cells below to read their docstrings"
   ]
  },
  {
   "cell_type": "code",
   "execution_count": 18,
   "metadata": {},
   "outputs": [
    {
     "name": "stdout",
     "output_type": "stream",
     "text": [
      "\u001b[31mSignature:\u001b[39m grading_util.run_sql(query, explain=\u001b[38;5;28;01mFalse\u001b[39;00m, explain_analyze=\u001b[38;5;28;01mFalse\u001b[39;00m)\n",
      "\u001b[31mDocstring:\u001b[39m\n",
      "Executes SQL statement(s) as a query string.\n",
      "\n",
      "Args:\n",
      "    query (str) - SQL statement(s) to execute. Semicolon can only be omitted\n",
      "        if you are executing a single statement.\n",
      "    explain (bool) - True if you want to prepend EXPLAIN to the query\n",
      "    explain_analyze (bool) - True if you want to prepend EXPLAIN ANAYLZE to the query\n",
      "\n",
      "Returns:\n",
      "    If there was only 1 SQL statement, the return type will be either pandas.DataFrame (if the\n",
      "    query resulted in a table with rows) or None otherwise.\n",
      "\n",
      "    If there were multiple SQL statements, the return type will be a list\n",
      "    where each element in the list is the output table of each statement as a pandas.DataFrame\n",
      "    or None if the output had no rows.\n",
      "\n",
      "    NOTE: An output of None can happen if SELECT ... WHERE ... filters out all rows\n",
      "    or if you're creating a table/view/materialized view, for example.\n",
      "\n",
      "Raises:\n",
      "    ValueError if:\n",
      "        query is empty,\n",
      "        explain and explain_analyze are both True, or\n",
      "        query contains more than 1 SQL statement\n",
      "    ConnectionError if postgres connection is not open\n",
      "\u001b[31mFile:\u001b[39m      ~/Desktop/Code/ucb/jupytercon2025-data101-demo/src/proj0/teacher/data101_utils.py\n",
      "\u001b[31mType:\u001b[39m      method"
     ]
    }
   ],
   "source": [
    "?grading_util.run_sql"
   ]
  },
  {
   "cell_type": "code",
   "execution_count": 19,
   "metadata": {},
   "outputs": [
    {
     "name": "stdout",
     "output_type": "stream",
     "text": [
      "\u001b[31mSignature:\u001b[39m\n",
      "grading_util.run_file(\n",
      "    path_to_sql_file,\n",
      "    explain=\u001b[38;5;28;01mFalse\u001b[39;00m,\n",
      "    explain_analyze=\u001b[38;5;28;01mFalse\u001b[39;00m,\n",
      "    use_queries_dir=\u001b[38;5;28;01mTrue\u001b[39;00m,\n",
      ")\n",
      "\u001b[31mDocstring:\u001b[39m\n",
      "Runs the SQL statement(s) in the given SQL file.\n",
      "If the .sql file extension is not provided, it is automatically added.\n",
      "\n",
      "Args:\n",
      "    path_to_sql_file (str) - path to SQL file you want to execute\n",
      "    explain (bool) - See the docstring of GradingUtil.execute\n",
      "    explain_analyze (bool) - See the docstring of GradingUtil.execute\n",
      "    use_queries_dir (bool) - True if you want to prepend `self.queries_dir` to the file path. Default True.\n",
      "\n",
      "Returns:\n",
      "    See the docstring of GradingUtil.execute\n",
      "\u001b[31mFile:\u001b[39m      ~/Desktop/Code/ucb/jupytercon2025-data101-demo/src/proj0/teacher/data101_utils.py\n",
      "\u001b[31mType:\u001b[39m      method"
     ]
    }
   ],
   "source": [
    "?grading_util.run_file"
   ]
  },
  {
   "cell_type": "markdown",
   "metadata": {},
   "source": [
    "<hr style=\"border: 5px solid #003262;\" />\n",
    "<hr style=\"border: 1px solid #fdb515;\" />\n",
    "\n",
    "\n",
    "# The `billboard` Database\n",
    "\n",
    "[Billboard](https://www.billboard.com) is a music industry publication which tracks the sales and distribution of music across many genres. Each week, they publish “charts” which aggregate the total sales, streams (e.g. via Spotify, Apple Music, or YouTube) as well as radio airplay in the US.\n",
    " \n",
    "The most (in)famous chart is the [Billboard Hot 100](https://www.billboard.com/charts/hot-100/), widely regarded as the list of most popular songs in the US. For this assignment, you’ll be looking at data from the Hot 100 list, primarily in recent years — though the database we’ve provided to you goes all the way back to 1958! \n",
    "\n",
    "Later questions will involve `JOIN`ing with data from the [Billboard TikTok Top 50](https://www.billboard.com/charts/tiktok-billboard-top-50/), a list of the songs that are the most popular on TikTok, factoring in views and user engagement.\n",
    "\n",
    "Why might we make our own SQL database of something that’s already available on a webpage? Well, we write queries and learn things about music or pop history that might be harder from just looking at a chart. But perhaps an alternate reason is that the Billboard website loads hundreds of data trackers, and dozens of megabytes of data on every webpage. Sometimes, it’s nicer to just view data... in a database. 🙃\n",
    "\n",
    "Below is a list of the relations (tables) in our database. \n",
    "- **hot_100**: Metadata for songs in the Billboard Hot 100\n",
    "- **tiktok_top_50**: Metadata for songs in the Billboard TikTok Top 50"
   ]
  },
  {
   "cell_type": "markdown",
   "metadata": {},
   "source": [
    "<br/><br/><br/>\n",
    "\n",
    "<hr style=\"border: 1px solid #fdb515;\" />\n",
    "\n",
    "## Data Schema"
   ]
  },
  {
   "cell_type": "markdown",
   "metadata": {},
   "source": [
    "When approaching a new database, one of the most important things to do is understand the database schema. Remember that a database is a set of tables, which each contain their own schema. For this assignment, both the `hot_100` and `tiktok_top_50` tables contain the following schema.\n",
    "\n",
    "```\n",
    "CREATE TABLE hot_100 (\n",
    "    week_ending TEXT,\n",
    "    rank INTEGER,\n",
    "    title TEXT,\n",
    "    artist TEXT, \n",
    "    image_url TEXT,\n",
    "    peak_position INTEGER,\n",
    "    weeks_on_chart INTEGER,\n",
    "    UNIQUE (week_ending, rank)\n",
    ");\n",
    "```\n",
    "\n",
    "- `week_ending`: The week that \"chart\" was published, as a `YYYY-MM-DD` string\n",
    "- `rank`: The track's current position on the chart. (A rank of 1 is better than a rank of 10.)\n",
    "- `title`: Track's title\n",
    "- `artist`: Track's artist\n",
    "- `image_url`: Image URL of the track's album cover\n",
    "- `peak_position`: The track's peak position on the chart as of the chart date\n",
    "- `weeks_on_chart`: The number of weeks the track has been or was on the chart up until that point\n",
    "\n",
    "**Note:** In the case of Billboard charts, a song (or album's) `peak_position` is based on the idea that being #1 is the 'best'. Therefore, a _smaller_ value for `peak_position` is better. \n",
    "\n",
    "_An aside_: ⏰ We've decided to use a `TEXT` data type for the `week_ending` date. Later we'll explore the `date` type. However, we can operate ordered comparisions on these strings, since '2024-01-01' comes before '2024-01-02' lexicographically. "
   ]
  },
  {
   "cell_type": "markdown",
   "metadata": {},
   "source": [
    "<br/><br/><br/>\n",
    "\n",
    "<hr style=\"border: 1px solid #fdb515;\" />\n",
    "\n",
    "## Optional Fun"
   ]
  },
  {
   "cell_type": "markdown",
   "metadata": {},
   "source": [
    "Call the `display_query` function passing in your JupySQL query result to view the results with a table that links to Apple Music and Spotify. An example usage of the `display_query` function can be found at the end of Question 3."
   ]
  },
  {
   "cell_type": "code",
   "execution_count": 20,
   "metadata": {},
   "outputs": [],
   "source": [
    "# Some utilities to make exploration easier.\n",
    "# NOTE: Make sure to write display_query(...);\n",
    "# Use the ; to supress the notebook's default output.\n",
    "\n",
    "# Common Configuration\n",
    "DISPLAY_ALBUM_ART = False\n",
    "IMAGE_SIZE = '50px' # Adjust to change the size of album art.\n",
    "MAX_ROWS = 250\n",
    "\n",
    "import urllib.parse\n",
    "from IPython.display import display, HTML\n",
    "\n",
    "# Adjust pandas display options to better handle large DataFrames\n",
    "# Note: These settings do not apply when calling `df.to_html`\n",
    "pd.set_option('display.max_rows', 500) # Adjust as needed\n",
    "pd.set_option('display.max_seq_items', 250)\n",
    "pd.set_option('display.max_columns', None) # Show all columns\n",
    "pd.set_option('display.colheader_justify', 'left')\n",
    "\n",
    "spotify_url = 'https://play.spotify.com/search/'\n",
    "apple_music_url = 'https://music.apple.com/us/search?term='\n",
    "\n",
    "# You probably don't need this function but you can use it make \"fancy\"\n",
    "# datatables which are sortable and searchable. (But the can be a little slow to load.)\n",
    "def html_datatable(html):\n",
    "    return display(HTML(f\"\"\"\n",
    "    <link rel=\"stylesheet\" type=\"text/css\" href=\"https://cdn.datatables.net/1.10.21/css/jquery.dataTables.css\">\n",
    "    <script type=\"text/javascript\" charset=\"utf8\" src=\"https://code.jquery.com/jquery-3.5.1.js\"></script>\n",
    "    <script type=\"text/javascript\" charset=\"utf8\" src=\"https://cdn.datatables.net/1.10.21/js/jquery.dataTables.js\"></script>\n",
    "    <script>\n",
    "    $(document).ready(function() {{\n",
    "        $('table.display').DataTable();\n",
    "    }});\n",
    "    </script>\n",
    "    <div>{html}</div>\n",
    "    \"\"\"))\n",
    "\n",
    "def basic_table(html):\n",
    "    return display(HTML(f\"\"\"\n",
    "    <div style=\"height: 300px; overflow-y: scroll; border: 1px solid #ccc;\">\n",
    "        {html}\n",
    "    </div>\n",
    "    \"\"\"))\n",
    "\n",
    "def display_query(result, show_search=True):\n",
    "    \"\"\"\n",
    "    A fairly basic df to HTML-table display utilitiy.\n",
    "    Includes the ability to give links to Spotify/Apple Music for easy exploring and maximal time wastage.\n",
    "    \"\"\"\n",
    "    song_query = lambda row: urllib.parse.quote(row.get(\"title\", '') + \" \" + row.get(\"artist\", ''))\n",
    "    format_link = lambda col_name: lambda cell: f'<a href=\"{cell}\" target=\"_blank\">{col_name}</a>'\n",
    "    formatters = {\n",
    "        'image_url': lambda image_url: f'<img src=\"{image_url}\" alt=\"Song Cover Art\" style=\"height: {IMAGE_SIZE}; width: auto; max-height: 100%;\">',\n",
    "        'spotify': format_link('Spotify'),\n",
    "        'apple': format_link('Apple Music'),\n",
    "    }\n",
    "\n",
    "    # Display the DataFrame as a nicely formatted table with scroll bars\n",
    "    df = result.DataFrame()\n",
    "    if show_search and ('artist' in df.columns or 'title' in df.columns):\n",
    "        df['spotify'] = df.apply(lambda row: f'{spotify_url}{song_query(row)}', axis=1)\n",
    "        df['apple'] = df.apply(lambda row: f'{apple_music_url}{song_query(row)}', axis=1)\n",
    "\n",
    "    if not DISPLAY_ALBUM_ART and 'image_url' in df.columns:\n",
    "        df = df.drop(columns='image_url')\n",
    "\n",
    "    # Convert DataFrame to HTML\n",
    "    # We must manually set out own limits!\n",
    "    html_table = df.to_html(index=True, escape=False, formatters=formatters, show_dimensions=True, max_rows=MAX_ROWS)\n",
    "\n",
    "    # Swap these two lines to see the fancy version of the output.\n",
    "    # html_datatable(html_table)\n",
    "    basic_table(html_table)\n",
    "    return df;"
   ]
  },
  {
   "cell_type": "markdown",
   "metadata": {},
   "source": [
    "<br/><br/>\n",
    "\n",
    "<hr style=\"border: 5px solid #003262;\" />\n",
    "<hr style=\"border: 1px solid #fdb515;\" />\n",
    "\n",
    "<a name=\"q1\"></a>\n",
    "\n",
    "# Question 1 — Warmup\n"
   ]
  },
  {
   "cell_type": "markdown",
   "metadata": {},
   "source": [
    "## Q1a -- Number of rows\n",
    "\n",
    "Select the number of rows in the `hot_100` table."
   ]
  },
  {
   "cell_type": "code",
   "execution_count": 33,
   "metadata": {
    "tags": [
     "otter_assign_solution_cell"
    ]
   },
   "outputs": [
    {
     "data": {
      "text/html": [
       "<div>\n",
       "<style scoped>\n",
       "    .dataframe tbody tr th:only-of-type {\n",
       "        vertical-align: middle;\n",
       "    }\n",
       "\n",
       "    .dataframe tbody tr th {\n",
       "        vertical-align: top;\n",
       "    }\n",
       "\n",
       "    .dataframe thead th {\n",
       "        text-align: right;\n",
       "    }\n",
       "</style>\n",
       "<table border=\"1\" class=\"dataframe\">\n",
       "  <thead>\n",
       "    <tr style=\"text-align: left;\">\n",
       "      <th></th>\n",
       "      <th>count</th>\n",
       "    </tr>\n",
       "  </thead>\n",
       "  <tbody>\n",
       "    <tr>\n",
       "      <th>0</th>\n",
       "      <td>344458</td>\n",
       "    </tr>\n",
       "  </tbody>\n",
       "</table>\n",
       "</div>"
      ],
      "text/plain": [
       "   count \n",
       "0  344458"
      ]
     },
     "execution_count": 33,
     "metadata": {},
     "output_type": "execute_result"
    }
   ],
   "source": [
    "result_1a = grading_util.run_file(\"1a\")\n",
    "result_1a"
   ]
  },
  {
   "cell_type": "code",
   "execution_count": null,
   "metadata": {
    "deletable": false,
    "editable": false
   },
   "outputs": [],
   "source": [
    "grader.check(\"q1a\")"
   ]
  },
  {
   "cell_type": "markdown",
   "metadata": {},
   "source": [
    "## Q1b -- Any 25 rows\n",
    "\n",
    "Select any 25 rows from the `hot_100` table."
   ]
  },
  {
   "cell_type": "code",
   "execution_count": 38,
   "metadata": {
    "tags": [
     "otter_assign_solution_cell"
    ]
   },
   "outputs": [
    {
     "data": {
      "text/html": [
       "<div>\n",
       "<style scoped>\n",
       "    .dataframe tbody tr th:only-of-type {\n",
       "        vertical-align: middle;\n",
       "    }\n",
       "\n",
       "    .dataframe tbody tr th {\n",
       "        vertical-align: top;\n",
       "    }\n",
       "\n",
       "    .dataframe thead th {\n",
       "        text-align: right;\n",
       "    }\n",
       "</style>\n",
       "<table border=\"1\" class=\"dataframe\">\n",
       "  <thead>\n",
       "    <tr style=\"text-align: left;\">\n",
       "      <th></th>\n",
       "      <th>week_ending</th>\n",
       "      <th>rank</th>\n",
       "      <th>title</th>\n",
       "      <th>artist</th>\n",
       "      <th>image_url</th>\n",
       "      <th>peak_position</th>\n",
       "      <th>weeks_on_chart</th>\n",
       "    </tr>\n",
       "  </thead>\n",
       "  <tbody>\n",
       "    <tr>\n",
       "      <th>0</th>\n",
       "      <td>1958-08-04</td>\n",
       "      <td>1</td>\n",
       "      <td>Poor Little Fool</td>\n",
       "      <td>Ricky Nelson</td>\n",
       "      <td>https://www.billboard.com/wp-content/themes/vip/pmc-billboard-2021/assets/public/lazyload-fallback.gif</td>\n",
       "      <td>1</td>\n",
       "      <td>1</td>\n",
       "    </tr>\n",
       "    <tr>\n",
       "      <th>1</th>\n",
       "      <td>1958-08-04</td>\n",
       "      <td>2</td>\n",
       "      <td>Patricia</td>\n",
       "      <td>Perez Prado And His Orchestra</td>\n",
       "      <td>https://www.billboard.com/wp-content/themes/vip/pmc-billboard-2021/assets/public/lazyload-fallback.gif</td>\n",
       "      <td>2</td>\n",
       "      <td>1</td>\n",
       "    </tr>\n",
       "    <tr>\n",
       "      <th>2</th>\n",
       "      <td>1958-08-04</td>\n",
       "      <td>3</td>\n",
       "      <td>Splish Splash</td>\n",
       "      <td>Bobby Darin</td>\n",
       "      <td>https://charts-static.billboard.com/img/1958/08/bobby-darin-hm6-180x180.jpg</td>\n",
       "      <td>3</td>\n",
       "      <td>1</td>\n",
       "    </tr>\n",
       "    <tr>\n",
       "      <th>3</th>\n",
       "      <td>1958-08-04</td>\n",
       "      <td>4</td>\n",
       "      <td>Hard Headed Woman</td>\n",
       "      <td>Elvis Presley With The Jordanaires</td>\n",
       "      <td>https://charts-static.billboard.com/img/1958/08/elvis-presley-0r3-180x180.jpg</td>\n",
       "      <td>4</td>\n",
       "      <td>1</td>\n",
       "    </tr>\n",
       "    <tr>\n",
       "      <th>4</th>\n",
       "      <td>1958-08-04</td>\n",
       "      <td>5</td>\n",
       "      <td>When</td>\n",
       "      <td>Kalin Twins</td>\n",
       "      <td>https://www.billboard.com/wp-content/themes/vip/pmc-billboard-2021/assets/public/lazyload-fallback.gif</td>\n",
       "      <td>5</td>\n",
       "      <td>1</td>\n",
       "    </tr>\n",
       "    <tr>\n",
       "      <th>5</th>\n",
       "      <td>1958-08-04</td>\n",
       "      <td>6</td>\n",
       "      <td>Rebel-'rouser</td>\n",
       "      <td>Duane Eddy His Twangy Guitar And The Rebels</td>\n",
       "      <td>https://charts-static.billboard.com/img/1958/08/duane-eddy-vt9-180x180.jpg</td>\n",
       "      <td>6</td>\n",
       "      <td>1</td>\n",
       "    </tr>\n",
       "    <tr>\n",
       "      <th>6</th>\n",
       "      <td>1958-08-04</td>\n",
       "      <td>7</td>\n",
       "      <td>Yakety Yak</td>\n",
       "      <td>The Coasters</td>\n",
       "      <td>https://charts-static.billboard.com/img/1958/08/the-coasters-jiw-180x180.jpg</td>\n",
       "      <td>7</td>\n",
       "      <td>1</td>\n",
       "    </tr>\n",
       "    <tr>\n",
       "      <th>7</th>\n",
       "      <td>1958-08-04</td>\n",
       "      <td>8</td>\n",
       "      <td>My True Love</td>\n",
       "      <td>Jack Scott</td>\n",
       "      <td>https://www.billboard.com/wp-content/themes/vip/pmc-billboard-2021/assets/public/lazyload-fallback.gif</td>\n",
       "      <td>8</td>\n",
       "      <td>1</td>\n",
       "    </tr>\n",
       "    <tr>\n",
       "      <th>8</th>\n",
       "      <td>1958-08-04</td>\n",
       "      <td>9</td>\n",
       "      <td>Willie And The Hand Jive</td>\n",
       "      <td>The Johnny Otis Show</td>\n",
       "      <td>https://www.billboard.com/wp-content/themes/vip/pmc-billboard-2021/assets/public/lazyload-fallback.gif</td>\n",
       "      <td>9</td>\n",
       "      <td>1</td>\n",
       "    </tr>\n",
       "    <tr>\n",
       "      <th>9</th>\n",
       "      <td>1958-08-04</td>\n",
       "      <td>10</td>\n",
       "      <td>Fever</td>\n",
       "      <td>Peggy Lee</td>\n",
       "      <td>https://charts-static.billboard.com/img/1958/08/peggy-lee-55r-180x180.jpg</td>\n",
       "      <td>10</td>\n",
       "      <td>1</td>\n",
       "    </tr>\n",
       "    <tr>\n",
       "      <th>10</th>\n",
       "      <td>1958-08-04</td>\n",
       "      <td>11</td>\n",
       "      <td>Ginger Bread</td>\n",
       "      <td>Frankie Avalon</td>\n",
       "      <td>https://charts-static.billboard.com/img/1958/08/frankie-avalon-pf2-106x106.jpg</td>\n",
       "      <td>11</td>\n",
       "      <td>1</td>\n",
       "    </tr>\n",
       "    <tr>\n",
       "      <th>11</th>\n",
       "      <td>1958-08-04</td>\n",
       "      <td>12</td>\n",
       "      <td>Just A Dream</td>\n",
       "      <td>Jimmy Clanton And His Rockets</td>\n",
       "      <td>https://www.billboard.com/wp-content/themes/vip/pmc-billboard-2021/assets/public/lazyload-fallback.gif</td>\n",
       "      <td>12</td>\n",
       "      <td>1</td>\n",
       "    </tr>\n",
       "    <tr>\n",
       "      <th>12</th>\n",
       "      <td>1958-08-04</td>\n",
       "      <td>13</td>\n",
       "      <td>Left Right Out Of Your Heart (Hi Lee Hi Lo Hi Lup Up Up)</td>\n",
       "      <td>Patti Page</td>\n",
       "      <td>https://charts-static.billboard.com/img/1958/08/patti-page-xlb-180x180.jpg</td>\n",
       "      <td>13</td>\n",
       "      <td>1</td>\n",
       "    </tr>\n",
       "    <tr>\n",
       "      <th>13</th>\n",
       "      <td>1958-08-04</td>\n",
       "      <td>14</td>\n",
       "      <td>If Dreams Came True</td>\n",
       "      <td>Pat Boone</td>\n",
       "      <td>https://charts-static.billboard.com/img/1958/08/pat-boone-4yc-180x180.jpg</td>\n",
       "      <td>14</td>\n",
       "      <td>1</td>\n",
       "    </tr>\n",
       "    <tr>\n",
       "      <th>14</th>\n",
       "      <td>1958-08-04</td>\n",
       "      <td>15</td>\n",
       "      <td>For Your Precious Love</td>\n",
       "      <td>Jerry Butler and The Impressions</td>\n",
       "      <td>https://charts-static.billboard.com/img/1958/08/jerry-butler-qxb-180x180.jpg</td>\n",
       "      <td>15</td>\n",
       "      <td>1</td>\n",
       "    </tr>\n",
       "    <tr>\n",
       "      <th>15</th>\n",
       "      <td>1958-08-04</td>\n",
       "      <td>16</td>\n",
       "      <td>One Summer Night</td>\n",
       "      <td>The Danleers</td>\n",
       "      <td>https://www.billboard.com/wp-content/themes/vip/pmc-billboard-2021/assets/public/lazyload-fallback.gif</td>\n",
       "      <td>16</td>\n",
       "      <td>1</td>\n",
       "    </tr>\n",
       "    <tr>\n",
       "      <th>16</th>\n",
       "      <td>1958-08-04</td>\n",
       "      <td>17</td>\n",
       "      <td>Endless Sleep</td>\n",
       "      <td>Jody Reynolds</td>\n",
       "      <td>https://www.billboard.com/wp-content/themes/vip/pmc-billboard-2021/assets/public/lazyload-fallback.gif</td>\n",
       "      <td>17</td>\n",
       "      <td>1</td>\n",
       "    </tr>\n",
       "    <tr>\n",
       "      <th>17</th>\n",
       "      <td>1958-08-04</td>\n",
       "      <td>18</td>\n",
       "      <td>Little Star</td>\n",
       "      <td>The Elegants</td>\n",
       "      <td>https://charts-static.billboard.com/img/1958/08/the-elegants-vkn-106x106.jpg</td>\n",
       "      <td>18</td>\n",
       "      <td>1</td>\n",
       "    </tr>\n",
       "    <tr>\n",
       "      <th>18</th>\n",
       "      <td>1958-08-04</td>\n",
       "      <td>19</td>\n",
       "      <td>Everybody Loves A Lover</td>\n",
       "      <td>Doris Day</td>\n",
       "      <td>https://charts-static.billboard.com/img/1958/08/doris-day-90u-180x180.jpg</td>\n",
       "      <td>19</td>\n",
       "      <td>1</td>\n",
       "    </tr>\n",
       "    <tr>\n",
       "      <th>19</th>\n",
       "      <td>1958-08-04</td>\n",
       "      <td>20</td>\n",
       "      <td>Do You Want To Dance</td>\n",
       "      <td>Bobby Freeman</td>\n",
       "      <td>https://www.billboard.com/wp-content/themes/vip/pmc-billboard-2021/assets/public/lazyload-fallback.gif</td>\n",
       "      <td>20</td>\n",
       "      <td>1</td>\n",
       "    </tr>\n",
       "    <tr>\n",
       "      <th>20</th>\n",
       "      <td>1958-08-04</td>\n",
       "      <td>21</td>\n",
       "      <td>Guess Things Happen That Way</td>\n",
       "      <td>Johnny Cash And The Tennessee Two</td>\n",
       "      <td>https://charts-static.billboard.com/img/1958/08/johnny-cash-bc2-180x180.jpg</td>\n",
       "      <td>21</td>\n",
       "      <td>1</td>\n",
       "    </tr>\n",
       "    <tr>\n",
       "      <th>21</th>\n",
       "      <td>1958-08-04</td>\n",
       "      <td>22</td>\n",
       "      <td>A Certain Smile</td>\n",
       "      <td>Johnny Mathis</td>\n",
       "      <td>https://charts-static.billboard.com/img/1958/08/johnny-mathis-5xg-106x106.jpg</td>\n",
       "      <td>22</td>\n",
       "      <td>1</td>\n",
       "    </tr>\n",
       "    <tr>\n",
       "      <th>22</th>\n",
       "      <td>1958-08-04</td>\n",
       "      <td>23</td>\n",
       "      <td>Western Movies</td>\n",
       "      <td>The Olympics</td>\n",
       "      <td>https://www.billboard.com/wp-content/themes/vip/pmc-billboard-2021/assets/public/lazyload-fallback.gif</td>\n",
       "      <td>23</td>\n",
       "      <td>1</td>\n",
       "    </tr>\n",
       "    <tr>\n",
       "      <th>23</th>\n",
       "      <td>1958-08-04</td>\n",
       "      <td>24</td>\n",
       "      <td>The Purple People Eater</td>\n",
       "      <td>Sheb Wooley</td>\n",
       "      <td>https://charts-static.billboard.com/img/1958/08/sheb-wooley-has-180x180.jpg</td>\n",
       "      <td>24</td>\n",
       "      <td>1</td>\n",
       "    </tr>\n",
       "    <tr>\n",
       "      <th>24</th>\n",
       "      <td>1958-08-04</td>\n",
       "      <td>25</td>\n",
       "      <td>What Am I Living For</td>\n",
       "      <td>Chuck Willis</td>\n",
       "      <td>https://www.billboard.com/wp-content/themes/vip/pmc-billboard-2021/assets/public/lazyload-fallback.gif</td>\n",
       "      <td>25</td>\n",
       "      <td>1</td>\n",
       "    </tr>\n",
       "  </tbody>\n",
       "</table>\n",
       "</div>"
      ],
      "text/plain": [
       "   week_ending  rank  \\\n",
       "0   1958-08-04   1     \n",
       "1   1958-08-04   2     \n",
       "2   1958-08-04   3     \n",
       "3   1958-08-04   4     \n",
       "4   1958-08-04   5     \n",
       "5   1958-08-04   6     \n",
       "6   1958-08-04   7     \n",
       "7   1958-08-04   8     \n",
       "8   1958-08-04   9     \n",
       "9   1958-08-04  10     \n",
       "10  1958-08-04  11     \n",
       "11  1958-08-04  12     \n",
       "12  1958-08-04  13     \n",
       "13  1958-08-04  14     \n",
       "14  1958-08-04  15     \n",
       "15  1958-08-04  16     \n",
       "16  1958-08-04  17     \n",
       "17  1958-08-04  18     \n",
       "18  1958-08-04  19     \n",
       "19  1958-08-04  20     \n",
       "20  1958-08-04  21     \n",
       "21  1958-08-04  22     \n",
       "22  1958-08-04  23     \n",
       "23  1958-08-04  24     \n",
       "24  1958-08-04  25     \n",
       "\n",
       "   title                                                      \\\n",
       "0                                           Poor Little Fool   \n",
       "1                                                   Patricia   \n",
       "2                                              Splish Splash   \n",
       "3                                          Hard Headed Woman   \n",
       "4                                                       When   \n",
       "5                                              Rebel-'rouser   \n",
       "6                                                 Yakety Yak   \n",
       "7                                               My True Love   \n",
       "8                                   Willie And The Hand Jive   \n",
       "9                                                      Fever   \n",
       "10                                              Ginger Bread   \n",
       "11                                              Just A Dream   \n",
       "12  Left Right Out Of Your Heart (Hi Lee Hi Lo Hi Lup Up Up)   \n",
       "13                                       If Dreams Came True   \n",
       "14                                    For Your Precious Love   \n",
       "15                                          One Summer Night   \n",
       "16                                             Endless Sleep   \n",
       "17                                               Little Star   \n",
       "18                                   Everybody Loves A Lover   \n",
       "19                                      Do You Want To Dance   \n",
       "20                              Guess Things Happen That Way   \n",
       "21                                           A Certain Smile   \n",
       "22                                            Western Movies   \n",
       "23                                   The Purple People Eater   \n",
       "24                                      What Am I Living For   \n",
       "\n",
       "   artist                                        \\\n",
       "0                                  Ricky Nelson   \n",
       "1                 Perez Prado And His Orchestra   \n",
       "2                                   Bobby Darin   \n",
       "3            Elvis Presley With The Jordanaires   \n",
       "4                                   Kalin Twins   \n",
       "5   Duane Eddy His Twangy Guitar And The Rebels   \n",
       "6                                  The Coasters   \n",
       "7                                    Jack Scott   \n",
       "8                          The Johnny Otis Show   \n",
       "9                                     Peggy Lee   \n",
       "10                               Frankie Avalon   \n",
       "11                Jimmy Clanton And His Rockets   \n",
       "12                                   Patti Page   \n",
       "13                                    Pat Boone   \n",
       "14             Jerry Butler and The Impressions   \n",
       "15                                 The Danleers   \n",
       "16                                Jody Reynolds   \n",
       "17                                 The Elegants   \n",
       "18                                    Doris Day   \n",
       "19                                Bobby Freeman   \n",
       "20            Johnny Cash And The Tennessee Two   \n",
       "21                                Johnny Mathis   \n",
       "22                                 The Olympics   \n",
       "23                                  Sheb Wooley   \n",
       "24                                 Chuck Willis   \n",
       "\n",
       "   image_url                                                                                                \\\n",
       "0   https://www.billboard.com/wp-content/themes/vip/pmc-billboard-2021/assets/public/lazyload-fallback.gif   \n",
       "1   https://www.billboard.com/wp-content/themes/vip/pmc-billboard-2021/assets/public/lazyload-fallback.gif   \n",
       "2                              https://charts-static.billboard.com/img/1958/08/bobby-darin-hm6-180x180.jpg   \n",
       "3                            https://charts-static.billboard.com/img/1958/08/elvis-presley-0r3-180x180.jpg   \n",
       "4   https://www.billboard.com/wp-content/themes/vip/pmc-billboard-2021/assets/public/lazyload-fallback.gif   \n",
       "5                               https://charts-static.billboard.com/img/1958/08/duane-eddy-vt9-180x180.jpg   \n",
       "6                             https://charts-static.billboard.com/img/1958/08/the-coasters-jiw-180x180.jpg   \n",
       "7   https://www.billboard.com/wp-content/themes/vip/pmc-billboard-2021/assets/public/lazyload-fallback.gif   \n",
       "8   https://www.billboard.com/wp-content/themes/vip/pmc-billboard-2021/assets/public/lazyload-fallback.gif   \n",
       "9                                https://charts-static.billboard.com/img/1958/08/peggy-lee-55r-180x180.jpg   \n",
       "10                          https://charts-static.billboard.com/img/1958/08/frankie-avalon-pf2-106x106.jpg   \n",
       "11  https://www.billboard.com/wp-content/themes/vip/pmc-billboard-2021/assets/public/lazyload-fallback.gif   \n",
       "12                              https://charts-static.billboard.com/img/1958/08/patti-page-xlb-180x180.jpg   \n",
       "13                               https://charts-static.billboard.com/img/1958/08/pat-boone-4yc-180x180.jpg   \n",
       "14                            https://charts-static.billboard.com/img/1958/08/jerry-butler-qxb-180x180.jpg   \n",
       "15  https://www.billboard.com/wp-content/themes/vip/pmc-billboard-2021/assets/public/lazyload-fallback.gif   \n",
       "16  https://www.billboard.com/wp-content/themes/vip/pmc-billboard-2021/assets/public/lazyload-fallback.gif   \n",
       "17                            https://charts-static.billboard.com/img/1958/08/the-elegants-vkn-106x106.jpg   \n",
       "18                               https://charts-static.billboard.com/img/1958/08/doris-day-90u-180x180.jpg   \n",
       "19  https://www.billboard.com/wp-content/themes/vip/pmc-billboard-2021/assets/public/lazyload-fallback.gif   \n",
       "20                             https://charts-static.billboard.com/img/1958/08/johnny-cash-bc2-180x180.jpg   \n",
       "21                           https://charts-static.billboard.com/img/1958/08/johnny-mathis-5xg-106x106.jpg   \n",
       "22  https://www.billboard.com/wp-content/themes/vip/pmc-billboard-2021/assets/public/lazyload-fallback.gif   \n",
       "23                             https://charts-static.billboard.com/img/1958/08/sheb-wooley-has-180x180.jpg   \n",
       "24  https://www.billboard.com/wp-content/themes/vip/pmc-billboard-2021/assets/public/lazyload-fallback.gif   \n",
       "\n",
       "    peak_position  weeks_on_chart  \n",
       "0    1             1               \n",
       "1    2             1               \n",
       "2    3             1               \n",
       "3    4             1               \n",
       "4    5             1               \n",
       "5    6             1               \n",
       "6    7             1               \n",
       "7    8             1               \n",
       "8    9             1               \n",
       "9   10             1               \n",
       "10  11             1               \n",
       "11  12             1               \n",
       "12  13             1               \n",
       "13  14             1               \n",
       "14  15             1               \n",
       "15  16             1               \n",
       "16  17             1               \n",
       "17  18             1               \n",
       "18  19             1               \n",
       "19  20             1               \n",
       "20  21             1               \n",
       "21  22             1               \n",
       "22  23             1               \n",
       "23  24             1               \n",
       "24  25             1               "
      ]
     },
     "execution_count": 38,
     "metadata": {},
     "output_type": "execute_result"
    }
   ],
   "source": [
    "result_1b = grading_util.run_file(\"1b\")\n",
    "result_1b"
   ]
  },
  {
   "cell_type": "code",
   "execution_count": null,
   "metadata": {
    "deletable": false,
    "editable": false
   },
   "outputs": [],
   "source": [
    "grader.check(\"q1b\")"
   ]
  },
  {
   "cell_type": "markdown",
   "metadata": {},
   "source": [
    "<br/><br/>\n",
    "\n",
    "<hr style=\"border: 5px solid #003262;\" />\n",
    "<hr style=\"border: 1px solid #fdb515;\" />\n",
    "\n",
    "<a name=\"q2\"></a>\n",
    "\n",
    "# Question 2 -- Recent Hits\n"
   ]
  },
  {
   "cell_type": "markdown",
   "metadata": {
    "deletable": false,
    "editable": false,
    "vscode": {
     "languageId": "raw"
    }
   },
   "source": [
    "Select all song titles and artists on the Billboard Hot 100 chart in November 2023 which have ranking of 5 or better, sorted alphabetically by artist name.\n",
    "\n",
    "Notes:\n",
    "- The column `week_ending` is a **string**. it is represented `YYYY-MM-DD`. Think back to string comparisons in Data 100.  (Later in this class we will explore Postgres date types.)\n",
    "- Rank 1 is the best, so make sure you are using the right comparison operator!\n",
    "- Remember that a unique pair of song and artist can appear multiple times on the chart (for example, if the song charts for multiple weeks). Make sure your output only includes each song once."
   ]
  },
  {
   "cell_type": "code",
   "execution_count": null,
   "metadata": {
    "tags": [
     "otter_assign_solution_cell"
    ]
   },
   "outputs": [
    {
     "data": {
      "text/html": [
       "<div>\n",
       "<style scoped>\n",
       "    .dataframe tbody tr th:only-of-type {\n",
       "        vertical-align: middle;\n",
       "    }\n",
       "\n",
       "    .dataframe tbody tr th {\n",
       "        vertical-align: top;\n",
       "    }\n",
       "\n",
       "    .dataframe thead th {\n",
       "        text-align: right;\n",
       "    }\n",
       "</style>\n",
       "<table border=\"1\" class=\"dataframe\">\n",
       "  <thead>\n",
       "    <tr style=\"text-align: left;\">\n",
       "      <th></th>\n",
       "      <th>title</th>\n",
       "      <th>artist</th>\n",
       "    </tr>\n",
       "  </thead>\n",
       "  <tbody>\n",
       "    <tr>\n",
       "      <th>0</th>\n",
       "      <td>Paint The Town Red</td>\n",
       "      <td>Doja Cat</td>\n",
       "    </tr>\n",
       "    <tr>\n",
       "      <th>1</th>\n",
       "      <td>Lovin On Me</td>\n",
       "      <td>Jack Harlow</td>\n",
       "    </tr>\n",
       "    <tr>\n",
       "      <th>2</th>\n",
       "      <td>Standing Next To You</td>\n",
       "      <td>Jung Kook</td>\n",
       "    </tr>\n",
       "    <tr>\n",
       "      <th>3</th>\n",
       "      <td>Fast Car</td>\n",
       "      <td>Luke Combs</td>\n",
       "    </tr>\n",
       "    <tr>\n",
       "      <th>4</th>\n",
       "      <td>Snooze</td>\n",
       "      <td>SZA</td>\n",
       "    </tr>\n",
       "    <tr>\n",
       "      <th>5</th>\n",
       "      <td>Cruel Summer</td>\n",
       "      <td>Taylor Swift</td>\n",
       "    </tr>\n",
       "    <tr>\n",
       "      <th>6</th>\n",
       "      <td>Is It Over Now? (Taylor's Version) [From The Vault]</td>\n",
       "      <td>Taylor Swift</td>\n",
       "    </tr>\n",
       "    <tr>\n",
       "      <th>7</th>\n",
       "      <td>Now That We Don't Talk (Taylor's Version) [From The Vault]</td>\n",
       "      <td>Taylor Swift</td>\n",
       "    </tr>\n",
       "    <tr>\n",
       "      <th>8</th>\n",
       "      <td>Say Don't Go (Taylor's Version) [From The Vault]</td>\n",
       "      <td>Taylor Swift</td>\n",
       "    </tr>\n",
       "    <tr>\n",
       "      <th>9</th>\n",
       "      <td>Slut! (Taylor's Version) [From The Vault]</td>\n",
       "      <td>Taylor Swift</td>\n",
       "    </tr>\n",
       "    <tr>\n",
       "      <th>10</th>\n",
       "      <td>I Remember Everything</td>\n",
       "      <td>Zach Bryan Featuring Kacey Musgraves</td>\n",
       "    </tr>\n",
       "  </tbody>\n",
       "</table>\n",
       "</div>"
      ],
      "text/plain": [
       "   title                                                        \\\n",
       "0                                           Paint The Town Red   \n",
       "1                                                  Lovin On Me   \n",
       "2                                         Standing Next To You   \n",
       "3                                                     Fast Car   \n",
       "4                                                       Snooze   \n",
       "5                                                 Cruel Summer   \n",
       "6          Is It Over Now? (Taylor's Version) [From The Vault]   \n",
       "7   Now That We Don't Talk (Taylor's Version) [From The Vault]   \n",
       "8             Say Don't Go (Taylor's Version) [From The Vault]   \n",
       "9                    Slut! (Taylor's Version) [From The Vault]   \n",
       "10                                       I Remember Everything   \n",
       "\n",
       "   artist                                 \n",
       "0                               Doja Cat  \n",
       "1                            Jack Harlow  \n",
       "2                              Jung Kook  \n",
       "3                             Luke Combs  \n",
       "4                                    SZA  \n",
       "5                           Taylor Swift  \n",
       "6                           Taylor Swift  \n",
       "7                           Taylor Swift  \n",
       "8                           Taylor Swift  \n",
       "9                           Taylor Swift  \n",
       "10  Zach Bryan Featuring Kacey Musgraves  "
      ]
     },
     "execution_count": 26,
     "metadata": {},
     "output_type": "execute_result"
    }
   ],
   "source": [
    "result_2 = grading_util.run_file(\"2\")\n",
    "result_2"
   ]
  },
  {
   "cell_type": "code",
   "execution_count": null,
   "metadata": {
    "deletable": false,
    "editable": false
   },
   "outputs": [],
   "source": [
    "grader.check(\"q2\")"
   ]
  },
  {
   "cell_type": "markdown",
   "metadata": {},
   "source": [
    "<br/><br/>\n",
    "\n",
    "<hr style=\"border: 1px solid #fdb515;\" />\n",
    "\n",
    "\n",
    "# Question 3 — Recent Hits (JupySQL version)\n"
   ]
  },
  {
   "cell_type": "markdown",
   "metadata": {
    "deletable": false,
    "editable": false
   },
   "source": [
    "Select all song titles and artists on the Billboard Hot 100 chart in November 2023 which have ranking of 5 or better, sorted alphabetically by artist name.\n",
    "\n",
    "Notes:\n",
    "- The column `week_ending` is a **string**. it is represented `YYYY-MM-DD`. Think back to string comparisons in Data 100.  (Later in this class we will explore Postgres date types.)\n",
    "- Rank 1 is the best, so make sure you are using the right comparison operator!\n",
    "- Remember that a unique pair of song and artist can appear multiple times on the chart (for example, if the song charts for multiple weeks). Make sure your output only includes each song once."
   ]
  },
  {
   "cell_type": "code",
   "execution_count": 43,
   "metadata": {
    "tags": [
     "otter_assign_solution_cell"
    ]
   },
   "outputs": [
    {
     "data": {
      "text/html": [
       "<span style=\"None\">Running query in &#x27;postgresql://localhost/billboard&#x27;</span>"
      ],
      "text/plain": [
       "Running query in 'postgresql://localhost/billboard'"
      ]
     },
     "metadata": {},
     "output_type": "display_data"
    },
    {
     "data": {
      "text/html": [
       "<span style=\"color: green\">11 rows affected.</span>"
      ],
      "text/plain": [
       "11 rows affected."
      ]
     },
     "metadata": {},
     "output_type": "display_data"
    }
   ],
   "source": [
    "%%sql --save query_3 result_3 <<\n",
    "/* # SOLUTION NO PROMPT\n",
    "# BEGIN SOLUTION\n",
    "*/\n",
    "SELECT DISTINCT\n",
    "    title,\n",
    "    artist\n",
    "FROM\n",
    "    hot_100\n",
    "WHERE\n",
    "    week_ending >= '2023-11-01' AND\n",
    "    week_ending <= '2023-11-31' AND\n",
    "    rank <= 5\n",
    "ORDER BY\n",
    "    artist\n",
    "/*\n",
    "# END SOLUTION\n",
    "*/-- # SOLUTION NO PROMPT"
   ]
  },
  {
   "cell_type": "code",
   "execution_count": 44,
   "metadata": {
    "scrolled": true,
    "tags": [
     "otter_assign_solution_cell"
    ]
   },
   "outputs": [
    {
     "data": {
      "text/html": [
       "<table>\n",
       "    <thead>\n",
       "        <tr>\n",
       "            <th>title</th>\n",
       "            <th>artist</th>\n",
       "        </tr>\n",
       "    </thead>\n",
       "    <tbody>\n",
       "        <tr>\n",
       "            <td>Paint The Town Red</td>\n",
       "            <td>Doja Cat</td>\n",
       "        </tr>\n",
       "        <tr>\n",
       "            <td>Lovin On Me</td>\n",
       "            <td>Jack Harlow</td>\n",
       "        </tr>\n",
       "        <tr>\n",
       "            <td>Standing Next To You</td>\n",
       "            <td>Jung Kook</td>\n",
       "        </tr>\n",
       "        <tr>\n",
       "            <td>Fast Car</td>\n",
       "            <td>Luke Combs</td>\n",
       "        </tr>\n",
       "        <tr>\n",
       "            <td>Snooze</td>\n",
       "            <td>SZA</td>\n",
       "        </tr>\n",
       "        <tr>\n",
       "            <td>Cruel Summer</td>\n",
       "            <td>Taylor Swift</td>\n",
       "        </tr>\n",
       "        <tr>\n",
       "            <td>Is It Over Now? (Taylor's Version) [From The Vault]</td>\n",
       "            <td>Taylor Swift</td>\n",
       "        </tr>\n",
       "        <tr>\n",
       "            <td>Now That We Don't Talk (Taylor's Version) [From The Vault]</td>\n",
       "            <td>Taylor Swift</td>\n",
       "        </tr>\n",
       "        <tr>\n",
       "            <td>Say Don't Go (Taylor's Version) [From The Vault]</td>\n",
       "            <td>Taylor Swift</td>\n",
       "        </tr>\n",
       "        <tr>\n",
       "            <td>Slut! (Taylor's Version) [From The Vault]</td>\n",
       "            <td>Taylor Swift</td>\n",
       "        </tr>\n",
       "    </tbody>\n",
       "</table>"
      ],
      "text/plain": [
       "+------------------------------------------------------------+--------------+\n",
       "|                           title                            |    artist    |\n",
       "+------------------------------------------------------------+--------------+\n",
       "|                     Paint The Town Red                     |   Doja Cat   |\n",
       "|                        Lovin On Me                         | Jack Harlow  |\n",
       "|                    Standing Next To You                    |  Jung Kook   |\n",
       "|                          Fast Car                          |  Luke Combs  |\n",
       "|                           Snooze                           |     SZA      |\n",
       "|                        Cruel Summer                        | Taylor Swift |\n",
       "|    Is It Over Now? (Taylor's Version) [From The Vault]     | Taylor Swift |\n",
       "| Now That We Don't Talk (Taylor's Version) [From The Vault] | Taylor Swift |\n",
       "|      Say Don't Go (Taylor's Version) [From The Vault]      | Taylor Swift |\n",
       "|         Slut! (Taylor's Version) [From The Vault]          | Taylor Swift |\n",
       "+------------------------------------------------------------+--------------+"
      ]
     },
     "execution_count": 44,
     "metadata": {},
     "output_type": "execute_result"
    }
   ],
   "source": [
    "# Do not delete/edit this cell!\n",
    "# You must run this cell before running the autograder.\n",
    "query_3 = %sqlcmd snippets query_3\n",
    "grading_util.save_results(\"result_3\", query_3, result_3)\n",
    "result_3"
   ]
  },
  {
   "cell_type": "code",
   "execution_count": 45,
   "metadata": {
    "tags": [
     "otter_assign_solution_cell"
    ]
   },
   "outputs": [
    {
     "data": {
      "text/html": [
       "\n",
       "    <div style=\"height: 300px; overflow-y: scroll; border: 1px solid #ccc;\">\n",
       "        <table border=\"1\" class=\"dataframe\">\n",
       "  <thead>\n",
       "    <tr style=\"text-align: left;\">\n",
       "      <th></th>\n",
       "      <th>title</th>\n",
       "      <th>artist</th>\n",
       "      <th>spotify</th>\n",
       "      <th>apple</th>\n",
       "    </tr>\n",
       "  </thead>\n",
       "  <tbody>\n",
       "    <tr>\n",
       "      <th>0</th>\n",
       "      <td>Paint The Town Red</td>\n",
       "      <td>Doja Cat</td>\n",
       "      <td><a href=\"https://play.spotify.com/search/Paint%20The%20Town%20Red%20Doja%20Cat\" target=\"_blank\">Spotify</a></td>\n",
       "      <td><a href=\"https://music.apple.com/us/search?term=Paint%20The%20Town%20Red%20Doja%20Cat\" target=\"_blank\">Apple Music</a></td>\n",
       "    </tr>\n",
       "    <tr>\n",
       "      <th>1</th>\n",
       "      <td>Lovin On Me</td>\n",
       "      <td>Jack Harlow</td>\n",
       "      <td><a href=\"https://play.spotify.com/search/Lovin%20On%20Me%20Jack%20Harlow\" target=\"_blank\">Spotify</a></td>\n",
       "      <td><a href=\"https://music.apple.com/us/search?term=Lovin%20On%20Me%20Jack%20Harlow\" target=\"_blank\">Apple Music</a></td>\n",
       "    </tr>\n",
       "    <tr>\n",
       "      <th>2</th>\n",
       "      <td>Standing Next To You</td>\n",
       "      <td>Jung Kook</td>\n",
       "      <td><a href=\"https://play.spotify.com/search/Standing%20Next%20To%20You%20Jung%20Kook\" target=\"_blank\">Spotify</a></td>\n",
       "      <td><a href=\"https://music.apple.com/us/search?term=Standing%20Next%20To%20You%20Jung%20Kook\" target=\"_blank\">Apple Music</a></td>\n",
       "    </tr>\n",
       "    <tr>\n",
       "      <th>3</th>\n",
       "      <td>Fast Car</td>\n",
       "      <td>Luke Combs</td>\n",
       "      <td><a href=\"https://play.spotify.com/search/Fast%20Car%20Luke%20Combs\" target=\"_blank\">Spotify</a></td>\n",
       "      <td><a href=\"https://music.apple.com/us/search?term=Fast%20Car%20Luke%20Combs\" target=\"_blank\">Apple Music</a></td>\n",
       "    </tr>\n",
       "    <tr>\n",
       "      <th>4</th>\n",
       "      <td>Snooze</td>\n",
       "      <td>SZA</td>\n",
       "      <td><a href=\"https://play.spotify.com/search/Snooze%20SZA\" target=\"_blank\">Spotify</a></td>\n",
       "      <td><a href=\"https://music.apple.com/us/search?term=Snooze%20SZA\" target=\"_blank\">Apple Music</a></td>\n",
       "    </tr>\n",
       "    <tr>\n",
       "      <th>5</th>\n",
       "      <td>Cruel Summer</td>\n",
       "      <td>Taylor Swift</td>\n",
       "      <td><a href=\"https://play.spotify.com/search/Cruel%20Summer%20Taylor%20Swift\" target=\"_blank\">Spotify</a></td>\n",
       "      <td><a href=\"https://music.apple.com/us/search?term=Cruel%20Summer%20Taylor%20Swift\" target=\"_blank\">Apple Music</a></td>\n",
       "    </tr>\n",
       "    <tr>\n",
       "      <th>6</th>\n",
       "      <td>Is It Over Now? (Taylor's Version) [From The Vault]</td>\n",
       "      <td>Taylor Swift</td>\n",
       "      <td><a href=\"https://play.spotify.com/search/Is%20It%20Over%20Now%3F%20%28Taylor%27s%20Version%29%20%5BFrom%20The%20Vault%5D%20Taylor%20Swift\" target=\"_blank\">Spotify</a></td>\n",
       "      <td><a href=\"https://music.apple.com/us/search?term=Is%20It%20Over%20Now%3F%20%28Taylor%27s%20Version%29%20%5BFrom%20The%20Vault%5D%20Taylor%20Swift\" target=\"_blank\">Apple Music</a></td>\n",
       "    </tr>\n",
       "    <tr>\n",
       "      <th>7</th>\n",
       "      <td>Now That We Don't Talk (Taylor's Version) [From The Vault]</td>\n",
       "      <td>Taylor Swift</td>\n",
       "      <td><a href=\"https://play.spotify.com/search/Now%20That%20We%20Don%27t%20Talk%20%28Taylor%27s%20Version%29%20%5BFrom%20The%20Vault%5D%20Taylor%20Swift\" target=\"_blank\">Spotify</a></td>\n",
       "      <td><a href=\"https://music.apple.com/us/search?term=Now%20That%20We%20Don%27t%20Talk%20%28Taylor%27s%20Version%29%20%5BFrom%20The%20Vault%5D%20Taylor%20Swift\" target=\"_blank\">Apple Music</a></td>\n",
       "    </tr>\n",
       "    <tr>\n",
       "      <th>8</th>\n",
       "      <td>Say Don't Go (Taylor's Version) [From The Vault]</td>\n",
       "      <td>Taylor Swift</td>\n",
       "      <td><a href=\"https://play.spotify.com/search/Say%20Don%27t%20Go%20%28Taylor%27s%20Version%29%20%5BFrom%20The%20Vault%5D%20Taylor%20Swift\" target=\"_blank\">Spotify</a></td>\n",
       "      <td><a href=\"https://music.apple.com/us/search?term=Say%20Don%27t%20Go%20%28Taylor%27s%20Version%29%20%5BFrom%20The%20Vault%5D%20Taylor%20Swift\" target=\"_blank\">Apple Music</a></td>\n",
       "    </tr>\n",
       "    <tr>\n",
       "      <th>9</th>\n",
       "      <td>Slut! (Taylor's Version) [From The Vault]</td>\n",
       "      <td>Taylor Swift</td>\n",
       "      <td><a href=\"https://play.spotify.com/search/Slut%21%20%28Taylor%27s%20Version%29%20%5BFrom%20The%20Vault%5D%20Taylor%20Swift\" target=\"_blank\">Spotify</a></td>\n",
       "      <td><a href=\"https://music.apple.com/us/search?term=Slut%21%20%28Taylor%27s%20Version%29%20%5BFrom%20The%20Vault%5D%20Taylor%20Swift\" target=\"_blank\">Apple Music</a></td>\n",
       "    </tr>\n",
       "    <tr>\n",
       "      <th>10</th>\n",
       "      <td>I Remember Everything</td>\n",
       "      <td>Zach Bryan Featuring Kacey Musgraves</td>\n",
       "      <td><a href=\"https://play.spotify.com/search/I%20Remember%20Everything%20Zach%20Bryan%20Featuring%20Kacey%20Musgraves\" target=\"_blank\">Spotify</a></td>\n",
       "      <td><a href=\"https://music.apple.com/us/search?term=I%20Remember%20Everything%20Zach%20Bryan%20Featuring%20Kacey%20Musgraves\" target=\"_blank\">Apple Music</a></td>\n",
       "    </tr>\n",
       "  </tbody>\n",
       "</table>\n",
       "<p>11 rows × 4 columns</p>\n",
       "    </div>\n",
       "    "
      ],
      "text/plain": [
       "<IPython.core.display.HTML object>"
      ]
     },
     "metadata": {},
     "output_type": "display_data"
    }
   ],
   "source": [
    "display_query(result_3);"
   ]
  },
  {
   "cell_type": "code",
   "execution_count": null,
   "metadata": {
    "deletable": false,
    "editable": false
   },
   "outputs": [],
   "source": [
    "grader.check(\"q3\")"
   ]
  },
  {
   "cell_type": "markdown",
   "metadata": {},
   "source": [
    "<hr style=\"border: 5px solid #003262;\" />\n",
    "<hr style=\"border: 1px solid #fdb515;\" />"
   ]
  },
  {
   "cell_type": "markdown",
   "metadata": {},
   "source": [
    "# Congratulations! You have finished Project 0."
   ]
  },
  {
   "cell_type": "markdown",
   "metadata": {},
   "source": [
    "We hope you found something interesting to listen to :D\n",
    "\n",
    "Here is an optional but interesting video by Vox related to viral TikTok songs: [We tracked what happens after TikTok songs go viral](https://youtu.be/S1m-KgEpoow?feature=shared)"
   ]
  },
  {
   "cell_type": "markdown",
   "metadata": {},
   "source": [
    "#### Final Question\n",
    "\n",
    "What's something fun/weird/interesting you discovered while exploring some data in this assignment? (Totally feel free to leave this blank...)"
   ]
  },
  {
   "cell_type": "markdown",
   "metadata": {},
   "source": [
    "> ...put you answer in this cell."
   ]
  },
  {
   "cell_type": "markdown",
   "metadata": {},
   "source": [
    "## Acknowledgments\n",
    "\n",
    "This assignment was inspired by [Chris Molanphy’s podcast “Hit Parade”](https://slate.com/podcasts/hit-parade) which dives into the history of popular music in the US. Former TA Allen Guo’s [billboard.py](https://github.com/guoguo12/billboard-charts) library made it possible to easily extract the data from Billboard’s ad-riddled website. \n",
    "\n",
    "If you’d like to explore any of the other charts, or perhaps query more recent data, you should give it a try."
   ]
  },
  {
   "cell_type": "markdown",
   "metadata": {},
   "source": [
    "## Submission\n",
    "\n",
    "Run the following cell to zip and download the results of your queries. You will also need to run the export cell at the end of the notebook.\n",
    "\n",
    "**Please save your notebook before exporting (this is a good time to do it!)** Otherwise, we may not be able to register your written responses.\n",
    "\n",
    "**For your submission on Gradescope, you will need to submit the `proj0.zip` file generated by the export cell.** Please ensure that your submission includes `proj0.pdf`, `proj0.ipynb`, `queries.zip`, and `results.zip`. \n",
    "\n",
    "**Please ensure that public tests pass upon submission.** It is your responsibility to wait until the autograder finishes running. We will not be accepting regrade requests for submission issues.\n",
    "\n",
    "**Common submission issues:** You MUST submit the generated zip file to the autograder. However, Safari is known to automatically unzip files upon downloading. You can fix this by going into Safari preferences, and deselect the box with the text \"Open safe files after downloading\" under the \"General\" tab. If you experience issues with downloading via clicking on the link, you can also navigate to the project 0 directory within JupyterHub (remove `proj0.ipynb` from the url), and manually download the generated zip files. Please post on Ed if you encounter any other submission issues.\n",
    "\n",
    "Run the following cell to zip and download the results of your queries. You will also need to run the export cell at the end of the notebook."
   ]
  },
  {
   "cell_type": "code",
   "execution_count": 53,
   "metadata": {
    "scrolled": true
   },
   "outputs": [
    {
     "name": "stdout",
     "output_type": "stream",
     "text": [
      "Closed grading database connection.\n",
      "Created queries.zip\n",
      "Created results.zip\n"
     ]
    }
   ],
   "source": [
    "grading_util.prepare_submission_and_cleanup()"
   ]
  },
  {
   "cell_type": "code",
   "execution_count": null,
   "metadata": {},
   "outputs": [],
   "source": []
  },
  {
   "cell_type": "markdown",
   "metadata": {
    "deletable": false,
    "editable": false
   },
   "source": [
    "---\n",
    "\n",
    "To double-check your work, the cell below will rerun all of the autograder tests."
   ]
  },
  {
   "cell_type": "code",
   "execution_count": null,
   "metadata": {
    "deletable": false,
    "editable": false
   },
   "outputs": [],
   "source": [
    "grader.check_all()"
   ]
  },
  {
   "cell_type": "markdown",
   "metadata": {
    "deletable": false,
    "editable": false
   },
   "source": [
    "## Submission\n",
    "\n",
    "Make sure you have run all cells in your notebook in order before running the cell below, so that all images/graphs appear in the output. The cell below will generate a zip file for you to submit. **Please save before exporting!**"
   ]
  },
  {
   "cell_type": "code",
   "execution_count": null,
   "metadata": {
    "deletable": false,
    "editable": false
   },
   "outputs": [],
   "source": [
    "# Save your notebook first, then run this cell to export your submission.\n",
    "grader.export(files=['results.zip', 'queries.zip'])"
   ]
  },
  {
   "cell_type": "markdown",
   "metadata": {},
   "source": [
    " "
   ]
  }
 ],
 "metadata": {
  "kernelspec": {
   "display_name": "demo",
   "language": "python",
   "name": "python3"
  },
  "language_info": {
   "codemirror_mode": {
    "name": "ipython",
    "version": 3
   },
   "file_extension": ".py",
   "mimetype": "text/x-python",
   "name": "python",
   "nbconvert_exporter": "python",
   "pygments_lexer": "ipython3",
   "version": "3.11.13"
  },
  "otter": {
   "OK_FORMAT": true,
   "tests": {
    "q1a": {
     "name": "q1a",
     "points": 1,
     "suites": [
      {
       "cases": [
        {
         "code": ">>> result_1a.shape\n(1, 1)",
         "hidden": false,
         "locked": false
        },
        {
         "code": ">>> str(list(result_1a.columns))\n\"['count']\"",
         "hidden": false,
         "locked": false
        },
        {
         "code": ">>> result_1a.iloc[0]\ncount    344458\nName: 0, dtype: int64",
         "hidden": true,
         "locked": false
        }
       ],
       "scored": true,
       "setup": "",
       "teardown": "",
       "type": "doctest"
      }
     ]
    },
    "q1b": {
     "name": "q1b",
     "points": 1,
     "suites": [
      {
       "cases": [
        {
         "code": ">>> result_1b.shape\n(25, 7)",
         "hidden": false,
         "locked": false
        },
        {
         "code": ">>> str(list(result_1b.columns))\n\"['week_ending', 'rank', 'title', 'artist', 'image_url', 'peak_position', 'weeks_on_chart']\"",
         "hidden": false,
         "locked": false
        }
       ],
       "scored": true,
       "setup": "",
       "teardown": "",
       "type": "doctest"
      }
     ]
    },
    "q2": {
     "name": "q2",
     "points": 3,
     "suites": [
      {
       "cases": [
        {
         "code": ">>> result_2.shape\n(11, 2)",
         "hidden": false,
         "locked": false
        },
        {
         "code": ">>> str(list(result_2.columns))\n\"['title', 'artist']\"",
         "hidden": false,
         "locked": false
        },
        {
         "code": ">>> result_2['title'].iloc[:3]\n0      Paint The Town Red\n1             Lovin On Me\n2    Standing Next To You\nName: title, dtype: object",
         "hidden": false,
         "locked": false
        },
        {
         "code": ">>> result_2['artist'].iloc[:3]\n0       Doja Cat\n1    Jack Harlow\n2      Jung Kook\nName: artist, dtype: object",
         "hidden": false,
         "locked": false
        },
        {
         "code": ">>> result_2['title']\n0                                             Paint The Town Red\n1                                                    Lovin On Me\n2                                           Standing Next To You\n3                                                       Fast Car\n4                                                         Snooze\n5                                                   Cruel Summer\n6            Is It Over Now? (Taylor's Version) [From The Vault]\n7     Now That We Don't Talk (Taylor's Version) [From The Vault]\n8               Say Don't Go (Taylor's Version) [From The Vault]\n9                      Slut! (Taylor's Version) [From The Vault]\n10                                         I Remember Everything\nName: title, dtype: object",
         "hidden": true,
         "locked": false
        },
        {
         "code": ">>> result_2['artist']\n0                                 Doja Cat\n1                              Jack Harlow\n2                                Jung Kook\n3                               Luke Combs\n4                                      SZA\n5                             Taylor Swift\n6                             Taylor Swift\n7                             Taylor Swift\n8                             Taylor Swift\n9                             Taylor Swift\n10    Zach Bryan Featuring Kacey Musgraves\nName: artist, dtype: object",
         "hidden": true,
         "locked": false
        }
       ],
       "scored": true,
       "setup": "",
       "teardown": "",
       "type": "doctest"
      }
     ]
    },
    "q3": {
     "name": "q3",
     "points": 3,
     "suites": [
      {
       "cases": [
        {
         "code": ">>> query_3, result_3_df = grading_util.load_results('result_3')\n>>> result_3_df.shape == (11, 2)\nTrue",
         "hidden": false,
         "locked": false
        },
        {
         "code": ">>> query_3, result_3_df = grading_util.load_results('result_3')\n>>> result_3_df.columns == ['title', 'artist']\narray([ True,  True])",
         "hidden": false,
         "locked": false
        },
        {
         "code": ">>> query_3, result_3_df = grading_util.load_results('result_3')\n>>> result_3_df['title'].iloc[:3]\n0      Paint The Town Red\n1             Lovin On Me\n2    Standing Next To You\nName: title, dtype: object",
         "hidden": false,
         "locked": false
        },
        {
         "code": ">>> query_3, result_3_df = grading_util.load_results('result_3')\n>>> result_3_df['artist'].iloc[:3]\n0       Doja Cat\n1    Jack Harlow\n2      Jung Kook\nName: artist, dtype: object",
         "hidden": false,
         "locked": false
        },
        {
         "code": ">>> query_3, result_3_df = grading_util.load_results('result_3')\n>>> result_3_df['title']\n0                                             Paint The Town Red\n1                                                    Lovin On Me\n2                                           Standing Next To You\n3                                                       Fast Car\n4                                                         Snooze\n5                                                   Cruel Summer\n6            Is It Over Now? (Taylor's Version) [From The Vault]\n7     Now That We Don't Talk (Taylor's Version) [From The Vault]\n8               Say Don't Go (Taylor's Version) [From The Vault]\n9                      Slut! (Taylor's Version) [From The Vault]\n10                                         I Remember Everything\nName: title, dtype: object",
         "hidden": true,
         "locked": false
        },
        {
         "code": ">>> query_3, result_3_df = grading_util.load_results('result_3')\n>>> result_3_df['artist']\n0                                 Doja Cat\n1                              Jack Harlow\n2                                Jung Kook\n3                               Luke Combs\n4                                      SZA\n5                             Taylor Swift\n6                             Taylor Swift\n7                             Taylor Swift\n8                             Taylor Swift\n9                             Taylor Swift\n10    Zach Bryan Featuring Kacey Musgraves\nName: artist, dtype: object",
         "hidden": true,
         "locked": false
        }
       ],
       "scored": true,
       "setup": "",
       "teardown": "",
       "type": "doctest"
      }
     ]
    }
   }
  }
 },
 "nbformat": 4,
 "nbformat_minor": 4
}
